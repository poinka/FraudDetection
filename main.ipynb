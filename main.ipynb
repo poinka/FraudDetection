{
 "cells": [
  {
   "cell_type": "code",
   "execution_count": null,
   "metadata": {},
   "outputs": [],
   "source": [
    "import pandas as pd\n",
    "import numpy as np\n",
    "from sklearn.model_selection import train_test_split\n",
    "from sklearn.preprocessing import LabelEncoder\n",
    "from sklearn.svm import SVC\n",
    "from sklearn.metrics import accuracy_score"
   ]
  },
  {
   "cell_type": "code",
   "execution_count": null,
   "metadata": {},
   "outputs": [],
   "source": [
    "train_transaction = pd.read_csv(\"train_transaction.csv\")\n",
    "train_identity = pd.read_csv(\"train_identity.csv\")\n",
    "\n",
    "# Merge both dataframes on 'TransactionID'\n",
    "train = pd.merge(train_transaction, train_identity, on=\"TransactionID\", how=\"left\")\n",
    "\n",
    "print(f\"Rows in merged training set: {train.shape[0]}\")\n",
    "print(f\"Columns in merged training set: {train.shape[1]}\")"
   ]
  },
  {
   "cell_type": "code",
   "execution_count": null,
   "metadata": {},
   "outputs": [],
   "source": [
    "# Drop columns that might be mostly NaN\n",
    "drop_cols = [col for col in train.columns if train[col].isna().sum() > 0.9 * len(train)]\n",
    "train.drop(columns=drop_cols, inplace=True)\n",
    "\n",
    "# Fill remaining NaNs (simplistic approach)\n",
    "train.fillna(-999, inplace=True)\n",
    "\n",
    "# Label-encode some categorical features (example)\n",
    "cat_cols = [\"ProductCD\", \"card4\", \"DeviceType\"]  # minimal example\n",
    "for c in cat_cols:\n",
    "    if c in train.columns:\n",
    "        train[c] = train[c].astype(str)\n",
    "        train[c] = LabelEncoder().fit_transform(train[c])"
   ]
  },
  {
   "cell_type": "code",
   "execution_count": null,
   "metadata": {},
   "outputs": [],
   "source": [
    "# Target is \"isFraud\"\n",
    "X = train.drop([\"isFraud\", \"TransactionID\"], axis=1, errors=\"ignore\")\n",
    "y = train[\"isFraud\"]\n",
    "\n",
    "# Simple split (no cross-validation for brevity)\n",
    "X_train, X_test, y_train, y_test = train_test_split(X, y, test_size=0.2, random_state=42)"
   ]
  },
  {
   "cell_type": "code",
   "execution_count": null,
   "metadata": {},
   "outputs": [],
   "source": [
    "def run_genetic_algorithm(X_data, y_data):\n",
    "    \"\"\"\n",
    "    Placeholder for GA. Return a subset of feature indices.\n",
    "    \"\"\"\n",
    "    # TODO: Implement population, crossover, mutation, selection, etc.\n",
    "    # For demonstration, return all features:\n",
    "    return np.arange(X_data.shape[1])\n",
    "\n",
    "best_features = run_genetic_algorithm(X_train, y_train)\n",
    "X_train_ga = X_train.iloc[:, best_features]\n",
    "X_test_ga = X_test.iloc[:, best_features]"
   ]
  },
  {
   "cell_type": "code",
   "execution_count": null,
   "metadata": {},
   "outputs": [],
   "source": [
    "model = SVC(kernel=\"rbf\")\n",
    "model.fit(X_train_ga, y_train)\n",
    "y_pred = model.predict(X_test_ga)\n",
    "print(\"Baseline model Accuracy:\", accuracy_score(y_test, y_pred))"
   ]
  },
  {
   "cell_type": "code",
   "execution_count": null,
   "metadata": {},
   "outputs": [],
   "source": [
    "def run_pso_for_hyperparams(X_data, y_data, model_class):\n",
    "    \"\"\"\n",
    "    Placeholder for PSO. Return best hyperparams found.\n",
    "    \"\"\"\n",
    "    # TODO: Swarm initialization, velocity updates, fitness evaluation, etc.\n",
    "    return {\"C\": 1.0, \"kernel\": \"rbf\"}  # example\n",
    "\n",
    "best_params = run_pso_for_hyperparams(X_train_ga, y_train, SVC)\n",
    "model_pso = SVC(**best_params)\n",
    "model_pso.fit(X_train_ga, y_train)\n",
    "y_pred_pso = model_pso.predict(X_test_ga)\n",
    "print(\"PSO-tuned model Accuracy:\", accuracy_score(y_test, y_pred_pso))"
   ]
  },
  {
   "cell_type": "code",
   "execution_count": null,
   "metadata": {},
   "outputs": [],
   "source": [
    "def run_aco_classification(X_data, y_data):\n",
    "    \"\"\"\n",
    "    Placeholder for ACO. Return final classification model or rules.\n",
    "    \"\"\"\n",
    "    # TODO: ACO logic with ants’ path optimization, pheromone updates, etc.\n",
    "    # Here we simply return the same baseline model for demonstration:\n",
    "    return SVC(kernel=\"rbf\")\n",
    "\n",
    "aco_model = run_aco_classification(X_train_ga, y_train)\n",
    "aco_model.fit(X_train_ga, y_train)\n",
    "y_pred_aco = aco_model.predict(X_test_ga)\n",
    "print(\"ACO-based model Accuracy:\", accuracy_score(y_test, y_pred_aco))"
   ]
  },
  {
   "cell_type": "code",
   "execution_count": null,
   "metadata": {},
   "outputs": [],
   "source": []
  },
  {
   "cell_type": "code",
   "execution_count": null,
   "metadata": {},
   "outputs": [],
   "source": []
  }
 ],
 "metadata": {
  "kernelspec": {
   "display_name": ".venv",
   "language": "python",
   "name": "python3"
  },
  "language_info": {
   "name": "python",
   "version": "3.11.5"
  }
 },
 "nbformat": 4,
 "nbformat_minor": 2
}
