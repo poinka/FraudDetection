{
 "cells": [
  {
   "cell_type": "code",
   "execution_count": 2,
   "metadata": {},
   "outputs": [],
   "source": [
    "import pandas as pd\n",
    "import numpy as np\n",
    "from sklearn.model_selection import train_test_split\n",
    "from sklearn.preprocessing import LabelEncoder\n",
    "from sklearn.svm import SVC\n",
    "from sklearn.metrics import accuracy_score\n",
    "import scipy.stats as stats"
   ]
  },
  {
   "cell_type": "code",
   "execution_count": 3,
   "metadata": {},
   "outputs": [
    {
     "name": "stdout",
     "output_type": "stream",
     "text": [
      "Rows in merged training set: 590540\n",
      "Columns in merged training set: 434\n"
     ]
    }
   ],
   "source": [
    "train_transaction = pd.read_csv(\"data/train_transaction.csv\")\n",
    "train_identity = pd.read_csv(\"data/train_identity.csv\")\n",
    "\n",
    "# Merge both dataframes on 'TransactionID'\n",
    "train = pd.merge(train_transaction, train_identity, on=\"TransactionID\", how=\"left\")\n",
    "\n",
    "print(f\"Rows in merged training set: {train.shape[0]}\")\n",
    "print(f\"Columns in merged training set: {train.shape[1]}\")"
   ]
  },
  {
   "cell_type": "code",
   "execution_count": 4,
   "metadata": {},
   "outputs": [
    {
     "data": {
      "text/plain": [
       "TransactionID          0\n",
       "isFraud                0\n",
       "TransactionDT          0\n",
       "TransactionAmt         0\n",
       "ProductCD              0\n",
       "                   ...  \n",
       "id_36             449555\n",
       "id_37             449555\n",
       "id_38             449555\n",
       "DeviceType        449730\n",
       "DeviceInfo        471874\n",
       "Length: 434, dtype: int64"
      ]
     },
     "execution_count": 4,
     "metadata": {},
     "output_type": "execute_result"
    }
   ],
   "source": [
    "train.isna().sum()"
   ]
  },
  {
   "cell_type": "code",
   "execution_count": 5,
   "metadata": {},
   "outputs": [
    {
     "name": "stdout",
     "output_type": "stream",
     "text": [
      "Percentage of fraud transactions: 3.4990009144173126\n"
     ]
    }
   ],
   "source": [
    "print(\"Percentage of fraud transactions:\", (train[\"isFraud\"].sum() / train['isFraud'].count()) * 100)"
   ]
  },
  {
   "cell_type": "code",
   "execution_count": 6,
   "metadata": {},
   "outputs": [
    {
     "data": {
      "text/plain": [
       "['dist2',\n",
       " 'D7',\n",
       " 'id_07',\n",
       " 'id_08',\n",
       " 'id_18',\n",
       " 'id_21',\n",
       " 'id_22',\n",
       " 'id_23',\n",
       " 'id_24',\n",
       " 'id_25',\n",
       " 'id_26',\n",
       " 'id_27']"
      ]
     },
     "execution_count": 6,
     "metadata": {},
     "output_type": "execute_result"
    }
   ],
   "source": [
    "null_cols = [col for col in train.columns if train[col].isna().sum() > 0.9 * len(train)]\n",
    "null_cols"
   ]
  },
  {
   "cell_type": "code",
   "execution_count": 7,
   "metadata": {},
   "outputs": [
    {
     "name": "stdout",
     "output_type": "stream",
     "text": [
      "              m_flag_dist2   isFraud\n",
      "m_flag_dist2      1.000000 -0.091096\n",
      "isFraud          -0.091096  1.000000\n",
      "           m_flag_D7   isFraud\n",
      "m_flag_D7   1.000000 -0.164478\n",
      "isFraud    -0.164478  1.000000\n",
      "              m_flag_id_07   isFraud\n",
      "m_flag_id_07      1.000000 -0.024333\n",
      "isFraud          -0.024333  1.000000\n",
      "              m_flag_id_08   isFraud\n",
      "m_flag_id_08      1.000000 -0.024333\n",
      "isFraud          -0.024333  1.000000\n",
      "              m_flag_id_18   isFraud\n",
      "m_flag_id_18      1.000000 -0.074815\n",
      "isFraud          -0.074815  1.000000\n",
      "              m_flag_id_21  isFraud\n",
      "m_flag_id_21       1.00000 -0.02431\n",
      "isFraud           -0.02431  1.00000\n",
      "              m_flag_id_22   isFraud\n",
      "m_flag_id_22      1.000000 -0.024252\n",
      "isFraud          -0.024252  1.000000\n",
      "              m_flag_id_23   isFraud\n",
      "m_flag_id_23      1.000000 -0.024252\n",
      "isFraud          -0.024252  1.000000\n",
      "              m_flag_id_24   isFraud\n",
      "m_flag_id_24      1.000000 -0.024345\n",
      "isFraud          -0.024345  1.000000\n",
      "              m_flag_id_25   isFraud\n",
      "m_flag_id_25      1.000000 -0.023574\n",
      "isFraud          -0.023574  1.000000\n",
      "              m_flag_id_26   isFraud\n",
      "m_flag_id_26      1.000000 -0.024188\n",
      "isFraud          -0.024188  1.000000\n",
      "              m_flag_id_27   isFraud\n",
      "m_flag_id_27      1.000000 -0.024252\n",
      "isFraud          -0.024252  1.000000\n"
     ]
    }
   ],
   "source": [
    "missing_df = train.copy(deep=True)\n",
    "for col in null_cols:\n",
    "    missing_df[\"m_flag_\"+col] = np.where(missing_df[col].isnull(), 1, 0)\n",
    "    correlation = missing_df[[\"m_flag_\"+col, 'isFraud']].corr()\n",
    "    print(correlation)\n"
   ]
  },
  {
   "cell_type": "code",
   "execution_count": 7,
   "metadata": {},
   "outputs": [
    {
     "data": {
      "text/html": [
       "<div>\n",
       "<style scoped>\n",
       "    .dataframe tbody tr th:only-of-type {\n",
       "        vertical-align: middle;\n",
       "    }\n",
       "\n",
       "    .dataframe tbody tr th {\n",
       "        vertical-align: top;\n",
       "    }\n",
       "\n",
       "    .dataframe thead th {\n",
       "        text-align: right;\n",
       "    }\n",
       "</style>\n",
       "<table border=\"1\" class=\"dataframe\">\n",
       "  <thead>\n",
       "    <tr style=\"text-align: right;\">\n",
       "      <th></th>\n",
       "      <th>TransactionID</th>\n",
       "      <th>isFraud</th>\n",
       "      <th>TransactionDT</th>\n",
       "      <th>TransactionAmt</th>\n",
       "      <th>ProductCD</th>\n",
       "      <th>card1</th>\n",
       "      <th>card2</th>\n",
       "      <th>card3</th>\n",
       "      <th>card4</th>\n",
       "      <th>card5</th>\n",
       "      <th>...</th>\n",
       "      <th>id_31</th>\n",
       "      <th>id_32</th>\n",
       "      <th>id_33</th>\n",
       "      <th>id_34</th>\n",
       "      <th>id_35</th>\n",
       "      <th>id_36</th>\n",
       "      <th>id_37</th>\n",
       "      <th>id_38</th>\n",
       "      <th>DeviceType</th>\n",
       "      <th>DeviceInfo</th>\n",
       "    </tr>\n",
       "  </thead>\n",
       "  <tbody>\n",
       "    <tr>\n",
       "      <th>0</th>\n",
       "      <td>2987000</td>\n",
       "      <td>0</td>\n",
       "      <td>86400</td>\n",
       "      <td>68.5</td>\n",
       "      <td>W</td>\n",
       "      <td>13926</td>\n",
       "      <td>NaN</td>\n",
       "      <td>150.0</td>\n",
       "      <td>discover</td>\n",
       "      <td>142.0</td>\n",
       "      <td>...</td>\n",
       "      <td>NaN</td>\n",
       "      <td>NaN</td>\n",
       "      <td>NaN</td>\n",
       "      <td>NaN</td>\n",
       "      <td>NaN</td>\n",
       "      <td>NaN</td>\n",
       "      <td>NaN</td>\n",
       "      <td>NaN</td>\n",
       "      <td>NaN</td>\n",
       "      <td>NaN</td>\n",
       "    </tr>\n",
       "    <tr>\n",
       "      <th>1</th>\n",
       "      <td>2987001</td>\n",
       "      <td>0</td>\n",
       "      <td>86401</td>\n",
       "      <td>29.0</td>\n",
       "      <td>W</td>\n",
       "      <td>2755</td>\n",
       "      <td>404.0</td>\n",
       "      <td>150.0</td>\n",
       "      <td>mastercard</td>\n",
       "      <td>102.0</td>\n",
       "      <td>...</td>\n",
       "      <td>NaN</td>\n",
       "      <td>NaN</td>\n",
       "      <td>NaN</td>\n",
       "      <td>NaN</td>\n",
       "      <td>NaN</td>\n",
       "      <td>NaN</td>\n",
       "      <td>NaN</td>\n",
       "      <td>NaN</td>\n",
       "      <td>NaN</td>\n",
       "      <td>NaN</td>\n",
       "    </tr>\n",
       "    <tr>\n",
       "      <th>2</th>\n",
       "      <td>2987002</td>\n",
       "      <td>0</td>\n",
       "      <td>86469</td>\n",
       "      <td>59.0</td>\n",
       "      <td>W</td>\n",
       "      <td>4663</td>\n",
       "      <td>490.0</td>\n",
       "      <td>150.0</td>\n",
       "      <td>visa</td>\n",
       "      <td>166.0</td>\n",
       "      <td>...</td>\n",
       "      <td>NaN</td>\n",
       "      <td>NaN</td>\n",
       "      <td>NaN</td>\n",
       "      <td>NaN</td>\n",
       "      <td>NaN</td>\n",
       "      <td>NaN</td>\n",
       "      <td>NaN</td>\n",
       "      <td>NaN</td>\n",
       "      <td>NaN</td>\n",
       "      <td>NaN</td>\n",
       "    </tr>\n",
       "    <tr>\n",
       "      <th>3</th>\n",
       "      <td>2987003</td>\n",
       "      <td>0</td>\n",
       "      <td>86499</td>\n",
       "      <td>50.0</td>\n",
       "      <td>W</td>\n",
       "      <td>18132</td>\n",
       "      <td>567.0</td>\n",
       "      <td>150.0</td>\n",
       "      <td>mastercard</td>\n",
       "      <td>117.0</td>\n",
       "      <td>...</td>\n",
       "      <td>NaN</td>\n",
       "      <td>NaN</td>\n",
       "      <td>NaN</td>\n",
       "      <td>NaN</td>\n",
       "      <td>NaN</td>\n",
       "      <td>NaN</td>\n",
       "      <td>NaN</td>\n",
       "      <td>NaN</td>\n",
       "      <td>NaN</td>\n",
       "      <td>NaN</td>\n",
       "    </tr>\n",
       "    <tr>\n",
       "      <th>4</th>\n",
       "      <td>2987004</td>\n",
       "      <td>0</td>\n",
       "      <td>86506</td>\n",
       "      <td>50.0</td>\n",
       "      <td>H</td>\n",
       "      <td>4497</td>\n",
       "      <td>514.0</td>\n",
       "      <td>150.0</td>\n",
       "      <td>mastercard</td>\n",
       "      <td>102.0</td>\n",
       "      <td>...</td>\n",
       "      <td>samsung browser 6.2</td>\n",
       "      <td>32.0</td>\n",
       "      <td>2220x1080</td>\n",
       "      <td>match_status:2</td>\n",
       "      <td>T</td>\n",
       "      <td>F</td>\n",
       "      <td>T</td>\n",
       "      <td>T</td>\n",
       "      <td>mobile</td>\n",
       "      <td>SAMSUNG SM-G892A Build/NRD90M</td>\n",
       "    </tr>\n",
       "  </tbody>\n",
       "</table>\n",
       "<p>5 rows × 434 columns</p>\n",
       "</div>"
      ],
      "text/plain": [
       "   TransactionID  isFraud  TransactionDT  TransactionAmt ProductCD  card1  \\\n",
       "0        2987000        0          86400            68.5         W  13926   \n",
       "1        2987001        0          86401            29.0         W   2755   \n",
       "2        2987002        0          86469            59.0         W   4663   \n",
       "3        2987003        0          86499            50.0         W  18132   \n",
       "4        2987004        0          86506            50.0         H   4497   \n",
       "\n",
       "   card2  card3       card4  card5  ...                id_31  id_32  \\\n",
       "0    NaN  150.0    discover  142.0  ...                  NaN    NaN   \n",
       "1  404.0  150.0  mastercard  102.0  ...                  NaN    NaN   \n",
       "2  490.0  150.0        visa  166.0  ...                  NaN    NaN   \n",
       "3  567.0  150.0  mastercard  117.0  ...                  NaN    NaN   \n",
       "4  514.0  150.0  mastercard  102.0  ...  samsung browser 6.2   32.0   \n",
       "\n",
       "       id_33           id_34  id_35 id_36 id_37  id_38  DeviceType  \\\n",
       "0        NaN             NaN    NaN   NaN   NaN    NaN         NaN   \n",
       "1        NaN             NaN    NaN   NaN   NaN    NaN         NaN   \n",
       "2        NaN             NaN    NaN   NaN   NaN    NaN         NaN   \n",
       "3        NaN             NaN    NaN   NaN   NaN    NaN         NaN   \n",
       "4  2220x1080  match_status:2      T     F     T      T      mobile   \n",
       "\n",
       "                      DeviceInfo  \n",
       "0                            NaN  \n",
       "1                            NaN  \n",
       "2                            NaN  \n",
       "3                            NaN  \n",
       "4  SAMSUNG SM-G892A Build/NRD90M  \n",
       "\n",
       "[5 rows x 434 columns]"
      ]
     },
     "execution_count": 7,
     "metadata": {},
     "output_type": "execute_result"
    }
   ],
   "source": [
    "train.head()"
   ]
  },
  {
   "cell_type": "code",
   "execution_count": 8,
   "metadata": {},
   "outputs": [
    {
     "name": "stdout",
     "output_type": "stream",
     "text": [
      "ProductCD 5 {'W', 'H', 'R', 'S', 'C'}\n",
      "card4 5 {'visa', nan, 'discover', 'american express', 'mastercard'}\n",
      "card6 5 {'debit or credit', 'credit', nan, 'debit', 'charge card'}\n",
      "P_emaildomain 60 {'yahoo.co.uk', 'comcast.net', 'icloud.com', 'mac.com', 'netzero.com', 'roadrunner.com', 'web.de', 'yahoo.fr', 'me.com', 'windstream.net', 'gmail.com', 'twc.com', 'live.fr', 'aol.com', 'servicios-ta.com', 'earthlink.net', 'gmx.de', 'cfl.rr.com', 'sbcglobal.net', 'mail.com', 'verizon.net', 'frontiernet.net', 'outlook.es', 'optonline.net', 'hotmail.com', 'yahoo.com.mx', 'frontier.com', nan, 'aim.com', 'protonmail.com', 'gmail', 'hotmail.co.uk', 'yahoo.co.jp', 'q.com', 'ptd.net', 'rocketmail.com', 'live.com', 'bellsouth.net', 'yahoo.de', 'hotmail.es', 'msn.com', 'cableone.net', 'live.com.mx', 'ymail.com', 'embarqmail.com', 'charter.net', 'suddenlink.net', 'yahoo.es', 'yahoo.com', 'juno.com', 'hotmail.fr', 'prodigy.net.mx', 'netzero.net', 'centurylink.net', 'cox.net', 'anonymous.com', 'att.net', 'hotmail.de', 'outlook.com', 'sc.rr.com'}\n",
      "R_emaildomain 61 {'yahoo.co.uk', 'comcast.net', 'icloud.com', 'mac.com', 'netzero.com', 'roadrunner.com', 'web.de', 'yahoo.fr', 'me.com', 'twc.com', 'gmail.com', 'live.fr', 'windstream.net', 'aol.com', 'servicios-ta.com', 'gmx.de', 'earthlink.net', 'frontiernet.net', 'outlook.es', 'mail.com', 'verizon.net', 'sbcglobal.net', 'cfl.rr.com', 'yahoo.com.mx', 'hotmail.com', 'optonline.net', 'frontier.com', nan, 'aim.com', 'protonmail.com', 'scranton.edu', 'gmail', 'hotmail.co.uk', 'yahoo.co.jp', 'q.com', 'ptd.net', 'live.com', 'bellsouth.net', 'yahoo.de', 'rocketmail.com', 'hotmail.es', 'msn.com', 'cableone.net', 'live.com.mx', 'ymail.com', 'embarqmail.com', 'charter.net', 'suddenlink.net', 'yahoo.es', 'yahoo.com', 'juno.com', 'hotmail.fr', 'prodigy.net.mx', 'netzero.net', 'centurylink.net', 'cox.net', 'anonymous.com', 'att.net', 'hotmail.de', 'outlook.com', 'sc.rr.com'}\n",
      "M1 3 {nan, 'T', 'F'}\n",
      "M2 3 {nan, 'T', 'F'}\n",
      "M3 3 {nan, 'T', 'F'}\n",
      "M4 4 {'M0', 'M1', nan, 'M2'}\n",
      "M5 3 {nan, 'T', 'F'}\n",
      "M6 3 {nan, 'T', 'F'}\n",
      "M7 3 {nan, 'T', 'F'}\n",
      "M8 3 {nan, 'T', 'F'}\n",
      "M9 3 {nan, 'T', 'F'}\n",
      "id_12 3 {'Found', 'NotFound', nan}\n",
      "id_15 4 {'Found', 'New', nan, 'Unknown'}\n",
      "id_16 3 {'Found', 'NotFound', nan}\n",
      "id_23 4 {'IP_PROXY:HIDDEN', nan, 'IP_PROXY:TRANSPARENT', 'IP_PROXY:ANONYMOUS'}\n",
      "id_27 3 {'Found', 'NotFound', nan}\n",
      "id_28 3 {'Found', 'New', nan}\n",
      "id_29 3 {'Found', 'NotFound', nan}\n",
      "id_30 76 {'iOS 9.3.5', 'Mac OS X 10_11_3', 'iOS 11.1.1', 'Android 6.0', 'Mac OS X 10_12_2', 'Mac OS X 10_8_5', 'Android 8.0.0', 'Android 7.1.2', 'Mac OS X 10_13_3', 'Mac OS X 10_12', 'other', 'Mac OS X 10.9', 'func', 'iOS 11.4.0', 'Mac OS X 10_9_5', 'Windows 8', 'Mac OS X 10_12_4', 'iOS 11.1.2', 'Mac OS X 10.6', 'Android 8.1.0', 'Windows', 'iOS 11.2.2', 'Mac OS X 10_11_5', 'iOS 10.3.1', 'iOS 11.2.1', 'Mac OS X 10_7_5', 'Windows 8.1', 'Mac OS X 10_6_8', 'Android 4.4.2', 'iOS 11.0.1', 'Mac OS X 10.12', 'Mac', 'iOS 11.2.5', 'Android 7.0', 'Linux', 'Windows Vista', 'Android', nan, 'iOS 11.2.0', 'Mac OS X 10_11_4', 'Android 5.0', 'Mac OS X 10.10', 'Mac OS X 10_13_4', 'iOS 11.3.1', 'Mac OS X 10_10_5', 'Mac OS X 10.11', 'iOS 10.2.1', 'Mac OS X 10_12_3', 'Mac OS X 10_13_2', 'iOS 11.2.6', 'iOS 10.2.0', 'Mac OS X 10_12_1', 'Android 5.1.1', 'Android 5.0.2', 'Mac OS X 10_11_6', 'Mac OS X 10.13', 'Windows XP', 'Windows 10', 'iOS 10.3.2', 'Mac OS X 10_12_6', 'Mac OS X 10_13_5', 'iOS 11.0.3', 'iOS 11.4.1', 'iOS 11.0.0', 'iOS 10.3.3', 'iOS 11.3.0', 'Android 7.1.1', 'iOS 10.1.1', 'iOS 10.0.2', 'Mac OS X 10_13_1', 'iOS 11.0.2', 'iOS', 'iOS 11.1.0', 'Android 6.0.1', 'Mac OS X 10_12_5', 'Windows 7'}\n",
      "id_31 131 {'edge 17.0', 'mobile safari generic', 'samsung browser generic', 'opera 52.0', 'google search application 48.0', 'silk', 'seamonkey', 'chrome 66.0', 'firefox 60.0', 'samsung browser 6.2', 'chrome 55.0', 'opera 51.0', 'chromium', 'chrome 64.0 for android', 'chrome 55.0 for android', 'mobile safari 11.0', 'firefox generic', 'samsung browser 3.3', 'maxthon', 'chrome 63.0 for ios', 'chrome 51.0 for android', 'firefox 55.0', 'chrome 49.0', 'Mozilla/Firefox', 'aol', 'android browser 4.0', 'LG/K-200', 'palemoon', 'chrome 61.0 for android', 'chrome 66.0 for ios', 'chrome 66.0 for android', 'opera 53.0', 'chrome 67.0', 'chrome 50.0 for android', 'comodo', 'chrome 52.0 for android', 'iron', 'chrome 57.0', 'android', 'chrome', 'firefox 48.0', 'ie 11.0 for tablet', 'chrome 62.0 for ios', 'line', 'mobile safari uiwebview', 'chrome 43.0 for android', 'chrome 62.0 for android', 'mobile safari 9.0', 'samsung', 'firefox 58.0', 'edge 16.0', nan, 'Generic/Android', 'Samsung/SM-G532M', 'mobile safari 8.0', 'chrome 60.0 for android', 'ZTE/Blade', 'Generic/Android 7.0', 'chrome generic', 'BLU/Dash', 'chrome 59.0 for android', 'chrome 69.0', 'Inco/Minion', 'chrome 63.0', 'chrome 58.0 for android', 'firefox 56.0', 'chrome 56.0', 'chrome 64.0 for ios', 'chrome 64.0', 'chrome 65.0', 'facebook', 'chrome 58.0', 'chrome 56.0 for android', 'opera generic', 'samsung browser 7.0', 'other', 'chrome 54.0 for android', 'chrome 49.0 for android', 'edge 14.0', 'chrome 67.0 for android', 'ie', 'M4Tel/M4', 'samsung browser 4.2', 'firefox mobile 61.0', 'firefox 47.0', 'waterfox', 'safari 11.0', 'chrome 53.0 for android', 'chrome 57.0 for android', 'firefox 59.0', 'mobile safari 10.0', 'chrome 46.0 for android', 'google', 'chrome 63.0 for android', 'safari generic', 'Lanix/Ilium', 'firefox', 'samsung browser 4.0', 'puffin', 'android webview 4.0', 'edge 15.0', 'safari 9.0', 'cyberfox', 'safari 10.0', 'Microsoft/Windows', 'opera', 'ie 11.0 for desktop', 'chrome 62.0', 'chrome 60.0', 'opera 49.0', 'chrome 65.0 for ios', 'chrome generic for android', 'samsung browser 6.4', 'chrome 61.0', 'edge', 'Samsung/SCH', 'chrome 59.0', 'icedragon', 'samsung browser 5.2', 'safari', 'Samsung/SM-G531H', 'chrome 51.0', 'firefox 52.0', 'mobile', 'google search application 49.0', 'chrome 65.0 for android', 'firefox 57.0', 'samsung browser 5.4', 'Cherry', 'edge 13.0', 'Nokia/Lumia'}\n",
      "id_33 261 {'768x576', '1408x792', '2552x1337', '2672x1440', '1024x552', '1359x768', '1920x1280', '1280x720', '1920x1281', '3201x1800', '1680x1049', '1760x990', '1024x640', '2560x1440', '1658x946', '1502x844', '1600x1000', '1400x1050', '960x640', '2049x1152', '2961x1442', '2048x1080', '3072x1728', '1296x774', '2000x1125', '2010x1080', '1600x899', '480x320', '2160x1350', '1229x691', '1280x960', '2961x1440', '2076x1080', '1919x1079', '1600x900', '2710x1440', '1700x960', '1536x864', '3600x2250', '1440x759', '1440x720', '1480x720', '1200x675', '3696x2310', '3840x2162', '2735x1825', '976x600', '1679x1049', '1023x768', '1921x1081', '1120x700', '2159x1440', '2880x1800', '1360x768', '0x0', '2400x1500', '2591x1619', '3838x2160', '1360x767', '1368x768', '1729x973', '1440x810', '1624x1080', '960x540', '1920x1080', '4500x3000', '3200x1800', '2400x1600', '1024x767', '1596x710', '1720x1440', '2736x1824', '3843x2163', '801x480', '1365x768', '1439x809', '2160x1439', '1024x768', '2736x1823', '1280x900', '1440x800', '1371x857', '1800x1125', '2048x1278', '1279x1024', '1496x844', '1024x819', '1776x1080', '2160x1215', '2159x1439', '1280x732', nan, '2304x1296', '1092x614', '1776x1000', '2562x1442', '600x450', '2049x1536', '1511x944', '1280x1024', '2559x1440', '3360x2100', '1366x768', '1599x899', '3360x1890', '1138x640', '3840x2400', '2560x1800', '2800x1575', '1920x975', '3520x1980', '3001x2000', '2304x1440', '1512x945', '1920x1279', '1280x600', '4499x2999', '1280x712', '6720x3780', '2559x1439', '1356x900', '1440x960', '640x360', '1727x971', '1408x880', '1440x803', '2224x1668', '2880x1440', '2400x1350', '1279x1023', '2880x1442', '1920x1081', '2999x2000', '1439x899', '2392x1440', '1280x1023', '2882x1442', '2256x1504', '855x480', '1366x767', '2560x1080', '1239x697', '1344x756', '1281x801', '1062x630', '1680x1050', '1584x990', '4096x2304', '1680x945', '1280x620', '1599x900', '1918x1080', '2048x1536', '2520x1575', '1232x800', '3440x1440', '1824x1026', '2560x1600', '1920x1200', '1919x1199', '3841x2161', '1334x750', '2561x1442', '1638x922', '1848x1155', '1184x720', '1728x972', '1366x1024', '3360x1050', '1768x992', '1188x720', '1280x800', '1921x1080', '1264x924', '1023x767', '1152x720', '1400x900', '2732x2048', '2816x1584', '1600x1024', '3839x2159', '2880x1620', '6400x3600', '1422x889', '2368x1440', '2255x1503', '1600x1200', '1152x864', '1281x800', '1707x960', '2560x1700', '1916x901', '3838x2158', '1440x900', '3200x2000', '2100x1312', '2220x1081', '1364x768', '1344x840', '2160x1440', '1024x600', '1025x768', '2112x1188', '2048x1152', '1912x1025', '2160x1081', '1281x720', '1919x1200', '1440x899', '4200x2625', '2220x1080', '1093x615', '5760x3240', '7500x5000', '1502x845', '1365x767', '3240x2160', '3000x2000', '2816x1760', '1536x960', '2735x1823', '1805x1015', '1680x1051', '1536x1152', '3840x1600', '921x691', '1888x941', '5120x2880', '3441x1440', '1152x648', '1920x1201', '1280x740', '2700x1800', '3840x1080', '2960x1440', '800x600', '1441x901', '3199x1800', '2001x1125', '1280x768', '6016x3384', '1136x640', '1272x960', '1439x900', '5040x3150', '1281x721', '2048x1280', '3839x2160', '1600x837', '1919x1080', '1200x720', '2160x1080', '5760x1080', '2208x1242', '2436x1125', '1684x947', '1920x1018', '2737x1825', '1920x1079', '3840x2160', '1280x1025'}\n",
      "id_34 5 {nan, 'match_status:0', 'match_status:1', 'match_status:2', 'match_status:-1'}\n",
      "id_35 3 {nan, 'T', 'F'}\n",
      "id_36 3 {nan, 'T', 'F'}\n",
      "id_37 3 {nan, 'T', 'F'}\n",
      "id_38 3 {nan, 'T', 'F'}\n",
      "DeviceType 3 {'desktop', nan, 'mobile'}\n",
      "DeviceInfo 1787 {'SAMSUNG SM-G531H Build/LMY48B', 'LG-H900/H90022b', 'WAS-LX1 Build/HUAWEIWAS-LX1', 'SM-G386W', 'LG-H901', 'XT1033', 'SM-P580 Build/NRD90M', 'ALCATEL', 'iris 820 Build/MRA58K', 'SAMSUNG SM-S727VL Build/MMB29M', 'Stellar', 'LG-TP450 Build/NRD90U', 'Lenovo TAB 2 A7-30GC Build/KOT49H', 'SM-G720AX', 'Moto G (5) Plus Build/NPNS25.137-92-4', 'SM-G935W8', 'SM-N915V', 'SLA-L02', 'SM-G900H Build/MMB29K', 'SM-N920P Build/NRD90M', 'E2306 Build/26.3.A.1.33', 'LGL84VL Build/NRD90U', 'SAMSUNG SM-N900W8 Build/LRX21V', 'SM-T520', 'Moto G (4) Build/NPJ25.93-14.5', 'LG-H910 Build/NRD90M', 'KFTT Build/IML74K', 'LG-V495', 'E5606 Build/30.2.A.1.21', 'SAMSUNG SM-T530NU Build/LRX22G', 'SAMSUNG SM-A510M Build/NRD90M', 'Blade V6 Plus Build/MRA58K', 'HUAWEI', 'rv:35.0', 'rv:37.0', 'LGLS755', 'Android', 'HIGHWAY', 'GT-I9195I', 'Moto G (5S', 'SM-T560NU Build/MMB29M', 'LG-K580 Build/MRA58K', 'Moto G Play Build/NPIS26.48-36-2', 'LenovoA3300-GV Build/JDQ39', 'LG-V522', 'SAMSUNG SM-G960U Build/R16NW', 'Pixel Build/OPM4.171019.016.B1', 'F3313', 'LGL33L/V100', 'SM-T827R4', 'DOMOS', 'Pixel Build/OPM2.171019.029', 'SM-T350 Build/MMB29M', 'SM-N950W', 'KFAPWI Build/KTU84M', 'MOT-A6020l37 Build/LMY47V', 'R1', 'ZTE-Z835', 'QMV7A', 'A5002', 'HUAWEI CAN-L01 Build/HUAWEICAN-L01', 'ZTE Blade A511 Build/MRA58K', 'XT1032', 'SM-T587P', 'SM-A710M', 'LGL164VL Build/NRD90U', 'Pixel XL Build/OPM4.171019.016.B1', 'BLADE A520 Build/NRD90M', 'XT1710-02', 'SAMSUNG SM-J500FN Build/MMB29M', 'LGL41C', 'SCH-I535', 'Moto G (5) Build/NPP25.137-33', 'VKY-L09 Build/HUAWEIVKY-L09', 'TA-1039 Build/N2G47H', 'SM-G313ML', 'LGUS991', 'G3423', 'SAMSUNG SM-A510F Build/NRD90M', 'GT-I9060L Build/JDQ39', 'LG-H815 Build/MRA58K', 'SAMSUNG SM-N950U1 Build/R16NW', 'S.N.O.W.4', 'NEM-L51 Build/HONORNEM-L51', 'Z557BL', 'SAMSUNG SM-J500M Build/MMB29M', 'LT22i Build/6.2.A.1.100', 'Moto Z2 Play Build/NPSS26.118-19-6', 'TA-1052', 'TA-1027 Build/OPR1.170623.026', 'SM-G610F Build/NRD90M', 'LG-H871', 'SM-C900F', 'GT-S7390', 'MacOS', 'IdeaTabA1000-F', 'SM-A300M', 'SAMSUNG SM-A510M Build/MMB29K', 'Moto G (5) Plus Build/NPN25.137-82', 'Z812', 'TA-1039 Build/NMF26F', 'XT890 Build/9.8.2I-50_SML-25', 'LG-H960', 'SM-G532M Build/MMB29T', 'SM-S902L', 'SM-N910F Build/MMB29M', 'SM-T713 Build/NRD90M', 'MYA-L13 Build/HUAWEIMYA-L13', 'LG-H320 Build/LRX21Y', 'HTC One mini Build/KOT49H', 'AX821 Build/MRA58K', 'SM-A510F Build/NRD90M', 'Ilium LT510 Build/MRA58K', 'moto x4 Build/OPWS27.57-40-6', 'Moto G (4) Build/NPJS25.93-14-13', 'SAMSUNG SM-J510MN Build/MMB29M', 'SM-T377T', 'SM-J530G', 'F3111 Build/33.3.A.1.115', 'SM-G900FD', 'Redmi 4A Build/N2G47H', 'D5306 Build/19.4.A.0.182', 'SM-A320FL Build/NRD90M', 'SM-G925I', 'SM-G920V Build/MMB29K', 'Blade V6 Build/LRX22G', 'TA-1004', 'SM-T113NU Build/KTU84P', 'SAMSUNG-SM-G920AZ', 'SAMSUNG SM-G920F Build/LRX22G', 'XT1008', 'Pixel 2 XL Build/OPM1.171019.011', 'MotoG3 Build/MPIS24.107-55-2-17', 'G3223 Build/42.0.A.4.167', 'SM-G930F Build/NRD90M', 'C2104', 'SM-N900P Build/LRX21V', 'LG-H820 Build/NRD90U', 'SM-G900R4', 'Ilium X510 Build/MRA58K', 'LG-K330', 'LG-D959', 'Moto G (4) Build/NPJS25.93-14-15', 'XT1563', 'VS986 Build/MRA58K', 'MDDRJS', '9003A Build/MRA58K', 'SAMSUNG SM-G935W8 Build/NRD90M', 'rv:11.0', 'LGLS770', 'SM-G900F Build/KOT49H', 'LG-K410 Build/LRX22G', 'LG-K220 Build/MXB48T', 'SM-T807T', 'SM-P550 Build/NMF26X', 'SM-G930T1', 'Pixel 2 Build/OPM1.171019.021', 'VK810', 'SM-J500H', 'SM-J710MN Build/NRD90M', 'XT1095', 'Swift', 'SM-N920R4', 'GT-P5210 Build/KOT49H', '5045I', 'IO', 'LGMS550 Build/NRD90U', 'Hisense F23 Build/NRD90M', 'orbis', 'G3313 Build/43.0.A.5.79', 'LG-H340AR', 'SM-G570F', 'SM-G955F', 'SGH-I337M', 'G25524K', 'SM-N920A Build/MMB29K', 'M431', 'SM-J730GM Build/NRD90M', 'LG-H831 Build/NRD90U', 'WAS-LX2J', 'ONE', 'Z963VL', 'SM-G530T', 'V502015', '5057M', 'SAMSUNG SM-G950U1 Build/NRD90M', 'Nexus 6 Build/MOB30M', 'SM-G935V', 'FP2', 'LG-H343', 'SAMSUNG SM-N950U1 Build/NMF26X', 'Android 6.0.1', 'SM-G930V Build/MMB29M', 'Linux x86_64', 'EVA-L19 Build/HUAWEIEVA-L19', 'Ilium L1000 Build/LRX22G', 'P5046A', 'Techpad', 'LGMP260 Build/NRD90U', 'SAMSUNG SM-J700T1 Build/NMF26X', 'KFMEWI', 'MALC', 'NXA116QC164', 'SAMSUNG SM-G800F Build/MMB29K', 'SM-A500M Build/LRX22G', 'LG-H870DS Build/NRD90U', 'VK700 Build/LRX22G', '0PM92', 'LGMS323', 'Nexus 5 Build/M4B30Z', 'SM-N920P', 'SM-A710M Build/LMY47X', 'HUAWEI VNS-L31 Build/HUAWEIVNS-L31', 'Max', 'SM-T813 Build/NRD90M', 'LG-H700 Build/NRD90U', 'LG-D680', 'M4 SS4456 Build/LMY47V', 'SM-A310F Build/NRD90M', 'SM-G531F', '2PZC5', 'SAMSUNG-SM-N900A Build/LRX21V', '6045I Build/LRX22G', 'MYA-L03 Build/HUAWEIMYA-L03', 'SM-S550TL', 'LGMS631', 'SAMSUNG-SM-N900A', 'SM-J200H', 'F3113 Build/33.2.A.4.70', 'SM-N910T Build/MMB29M', 'LG-K428 Build/MMB29M', 'SM-J510MN Build/NMF26X', 'GT-S5310L', 'E5506', 'TA-1027 Build/N2G47H', 'SM-T230NU Build/KOT49H', 'F8331 Build/41.2.A.7.76', 'SM-G928V Build/NRD90M', 'SM-G925T Build/NRD90M', 'ZTE BLADE A512 Build/MMB29M', 'E6790TM', 'C6743 Build/LMY47V', 'XT1063 Build/MPB24.65-34-3', 'SM-T377P Build/NMF26X', 'TR10CS1 Build/JDQ39', 'M4 SS4450 Build/MRA58K', '5011A Build/NRD90M', 'HTC One M9 Build/NRD90M', 'Moto E (4) Plus Build/NMA26.42-142', 'LGLS992', 'RNE-L22 Build/HUAWEIRNE-L22', 'LIMIT', 'rv:56.0', 'SM-G900F Build/LRX21T', 'LOGIC', 'Moto G (5) Plus Build/NPNS25.137-15-11', 'D5316', 'BLADE V8 SE Build/NRD90M', 'Star', 'TA-1028 Build/NRD90M', 'SM-J111M Build/LMY47V', 'Moto', 'XT1032 Build/LPBS23.13-57-2', 'es-us', 'SM-J700T Build/NMF26X', 'PE-TL10', '2PYB2', 'SGH-I317M', 'LG-X180g Build/LMY47I', 'XT1021 Build/KXC21.5-40', 'SAMSUNG SM-G903F Build/MMB29K', 'A1601 Build/LMY47I', 'Z813 Build/LMY47O', 'MI', 'SM-G925P Build/NRD90M', 'LG-SP200', 'SM-P550', 'HUAWEI M2-801W Build/HUAWEIM2-801W', 'LG-M430 Build/NRD90U', 'Blade V580 Build/LMY47D', 'BND-L21 Build/HONORBND-L21', 'SM-G900T Build/MMB29M', '916', 'Neffos X1 Max Build/NRD90M', 'LG-K430 Build/MRA58K', 'LG-E980h', 'XT1068', 'BBA100-1', 'SM-T700 Build/MMB29K', 'LG-M150', 'Coolpad', 'SM-A500M Build/KTU84P', 'Tmovi Build/Vision', 'rv:49.0', 'ZTE A2017U Build/NRD90M', 'PRA507', 'CHC-U03 Build/HuaweiCHC-U03', 'STV100-3', 'ICON', 'MotoE2 Build/LPCS23.13-56-5', 'LGMS550 Build/MXB48T', 'TA-1044 Build/OPR1.170623.026', 'E5803 Build/32.4.A.1.54', 'SM-J500M Build/MMB29M', 'SLAY', 'Redmi Note 3 Build/MMB29M', '5012G Build/MRA58K', 'LG-D680 Build/KOT49I', 'SM-J327T Build/NRD90M', 'LG-K428 Build/NRD90U', 'SM-T825 Build/NRD90M', 'Linux i686', 'LGLK430', 'Moto C Build/NRD90M.050', 'LGL57BL', 'rv:60.0', 'SAMSUNG-SM-G870A', 'SAMSUNG SM-G930R4 Build/NRD90M', 'STV100-2 Build/MMB29M', 'GT-I8190N', 'SM-G935P Build/NRD90M', 'TA-1038 Build/NMF26O', 'Alcatel_5056O', 'SM-J727P', 'SM-G920V', 'XT1080 Build/SU6-7.7', 'SM-G928V', 'A0001', 'SM-J530GM Build/NRD90M', 'SM-E700M', 'LG-H525n Build/MRA58K', 'SM-G610F', 'VS880PP', 'G3123 Build/40.0.A.6.175', 'LGLS751', 'SM-G730V', 'HTC_One_M8/4.28.502.2', 'GT-N8010', 'SM-T800 Build/MMB29K', 'D6708', 'iris 870 Build/MRA58K', 'SM-T530NU Build/LRX22G', 'SAMSUNG-SM-G900A Build/MMB29M', 'BAH-L09 Build/HUAWEIBAH-L09', 'SAMSUNG SM-A710M Build/NRD90M', 'S6000', 'SAMSUNG-SM-G900A', 'Lenovo', 'ATT-IE11', 'XT1063 Build/MPB24.65-34', 'CPH1701', 'SM-S906L', 'RCT6773W22B', 'AX705', 'SM-A510M Build/MMB29K', 'Pixel Build/OPM1.171019.012', 'SM-G965U Build/R16NW', 'SM-T230 Build/KOT49H', 'ASUS_Z01KD', 'Studio', 'STELLAR', 'SM-G318ML', 'MotoG3 Build/MPI24.65-25.1', 'LGL62VL', 'moto x4 Build/NPW26.83-18-2-0-4', 'Grand2c', 'ASUS_X008DC Build/NRD90M', 'Moto Z2 Play Build/NPSS26.118-19-4', 'SM-N950U Build/R16NW', 'P5006A', 'SM-J510FN Build/NMF26X', 'SAMSUNG-SM-G900A Build/LRX21T', 'SM-A310M', 'SM-J7108', 'Redmi 5 Plus Build/N2G47H', 'ASUS_X008D Build/NRD90M', 'SM-G950U1 Build/R16NW', 'LG-K420', 'A574BL Build/NMF26F', 'BLADE V7 Build/MRA58K', 'SAMSUNG SM-J727T1 Build/NRD90M', 'STUDIO_G_HD', 'VS985', 'E5606', 'Redmi 4A Build/MMB29M', 'SM-A300H Build/LRX22G', 'SGH-M919 Build/KTU84P', 'RNE-L03 Build/HUAWEIRNE-L03', 'Lenovo A2016b30 Build/MRA58K', 'SM-T217S Build/KOT49H', 'XT1060', 'GT-I9506', 'REX', 'Moto Z (2', 'SAMSUNG SM-N920T Build/NRD90M', 'Ilium X210 Build/LMY47I', 'O1', 'SM-G390F', 'SM-J320V Build/MMB29M', 'E5306', 'SAMSUNG SM-G965U Build/R16NW', 'GT-I8190L Build/JZO54K', 'ASUS', 'LG-H735 Build/LMY47V', 'GT-N5110', 'HUAWEI VNS-L23 Build/HUAWEIVNS-L23', 'rv:57.0', 'WAS-L03T Build/HUAWEIWAS-L03T', 'VTR-AL00 Build/HUAWEIVTR-AL00', 'SAMSUNG SM-G891A Build/NRD90M', 'HUAWEI G7-L03 Build/HuaweiG7-L03', 'XT1097', 'HT0703K16', 'G8142', 'Moto G (5) Build/NPP25.137-93', 'STF-L09 Build/HUAWEISTF-L09', 'HUAWEI Y360-U23 Build/HUAWEIY360-U23', 'SMART', 'LG-X220 Build/LMY47I', 'AM508', 'SAMSUNG SM-J730GM Build/NRD90M', 'SM-G900M Build/MMB29M', 'rv:31.0', 'SLA-L23', 'P5026A', 'EML-L29 Build/HUAWEIEML-L29', 'rv:46.0', 'LG-D725', 'SM-J500M Build/LMY48B', 'BAC-L03 Build/HUAWEIBAC-L03', 'TA-1025 Build/NMF26F', 'SAMSUNG-SM-J727A Build/NRD90M', 'Archos', 'XT1575 Build/NPHS25.200-23-1', 'SM-G531H Build/LMY48B', 'SAMSUNG-SM-G925A Build/NRD90M', 'SM-G390W', 'Edison', 'Lenovo TB3-710F Build/LRX21M', 'Lenovo TB3-710I Build/LMY47I', 'FRD-L14 Build/HUAWEIFRD-L14', 'Moto G (5) Plus Build/NPN25.137-15', 'SAMSUNG-SM-G891A Build/NRD90M', 'SM-G930P Build/NRD90M', 'rv:39.0', 'SAMSUNG SM-A320Y Build/NRD90M', 'SM-J710GN Build/MMB29K', 'Pixel 2 Build/OPM1.171019.011', 'SM-A500FU Build/MMB29M', 'SM-G850M Build/LRX22G', 'ASUS_A001', 'Pixel 2 Build/OPM1.171019.019', 'SM-N900T Build/LRX21V', 'ME173X', 'en-gb', 'Blade A465 Build/LMY47D', 'G8341', 'XT1680', 'SM-G920P Build/NRD90M', 'GT-I9505 Build/LRX22C', 'D6603', 'D5503', '5017A', 'LG-X240 Build/MRA58K', 'SAMSUNG SM-G925I Build/NRD90M', 'SAMSUNG-SM-N920A Build/NRD90M', 'XT1030 Build/SU6-7.7', 'XT1575', 'SM-G950F Build/NRD90M', 'LG-M200 Build/NRD90U', 'SAMSUNG SM-G570M Build/MMB29K', 'verykoolS5530 Build/LMY47I', 'SAMSUNG SM-G950U1 Build/R16NW', 'es-mx', 'SAMSUNG-SM-J327AZ', 'Z2', 'ALUMINI', '8050G Build/LMY47I', 'NYX_A1', 'SM-G950F Build/R16NW', 'rv:43.0', 'TRT-L53 Build/HUAWEITRT-L53', 'SM-G930V Build/NRD90M', 'ZEIA8', 'HTC Desire 650 Build/MMB29M', 'RS988', 'SM-S907VL', 'Nexus 6 Build/N6F27M', 'E2306 Build/26.1.A.3.111', 'SM-J330FN Build/NRD90M', 'Moto G Play Build/NPI26.48-36', 'HTC Desire 510 Build/KOT49H', 'HTC6525LVW', 'LG-V520', 'PRA-LX3 Build/HUAWEIPRA-LX3', 'Lenovo-A6020l36 Build/LMY47V', 'SM-J730F', 'GT-I9060M Build/KTU84P', 'Ilium LT520 Build/NRD90M', 'Moto G (4) Build/NPJS25.93-14-8', 'LG-H542 Build/LRX22G', 'Lenovo TB2-X30F Build/LenovoTB2-X30F', 'Hisense F20 Build/MMB29M', 'LG-H542 Build/MRA58K', 'SAMSUNG SM-G955F Build/R16NW', 'F3311', 'verykoolS5005', 'SM-E500M', 'Z410', 'XT1032 Build/KXB20.9-1.10-1.24-1.1', 'LG-H830 Build/NRD90U', 'TA-1020', 'iris50', 'SAMSUNG', 'SM-T210', 'verykools5034', 'Venue', 'PLAYTAB', 'X900+', 'ASUS_Z01BDA', 'LG-K540 Build/MMB29M', 'Z798BL Build/MMB29M', 'XT1609', 'LGLS775 Build/NRD90U', 'SAMSUNG SM-G900T Build/MMB29M', 'SM-T355Y Build/NMF26X', 'SM-N910P', 'SLA-L03 Build/HUAWEISLA-L03', 'SM-S327VL', '4009F', 'XT1580', 'GRANT', 'SM-G900W8', 'XT1650 Build/NPLS26.118-20-5-11', 'LG-H345', 'SAMSUNG SM-J710MN Build/MMB29K', 'SM-G955F Build/R16NW', 'SM-T237P', 'CLT-L09', 'SM-J327V Build/NRD90M', 'SAMSUNG SM-G925P Build/MMB29K', 'SM-G361F', 'HTC Desire 626s Build/LMY47O', 'rv:52.9', 'SM-G950W', 'U FEEL LITE Build/MRA58K', 'XT1580 Build/NPKS25.200-17-8', 'Moto C Build/NRD90M.054', 'XT1064', 'SM-A520F Build/R16NW', 'F5121 Build/34.3.A.0.238', 'SM-G920T Build/NRD90M', 'SAMSUNG-SM-T377A Build/MMB29K', 'P00C', 'SAMSUNG SM-P580 Build/NRD90M', 'SM-G900V', 'SM-T560NU Build/NMF26X', 'Lenovo PB1-750M Build/S100', 'Z971', 'ASUS_Z017D', 'G3123', 'SM-G928G Build/MMB29K', 'SM-T580 Build/NRD90M', 'rv:38.0', 'Blade V6 Max Build/MRA58K', 'A96 Build/LMY47I', 'SM-G530W', 'LGLS775 Build/MMB29M', 'SAMSUNG SM-N950F Build/NMF26X', 'SM-J105B Build/LMY47V', 'LG-LS998', 'GT-S7275B', 'LG-V700', 'RCT6203W46 Build/KOT49H', 'Lenovo YT3-X50F Build/MMB29M', 'LG-K530 Build/MMB29M', 'Joy', 'rv:52.0', 'BLN-L24 Build/HONORBLN-L24', 'SAMSUNG SM-G892A Build/NRD90M', 'E5306 Build/27.3.A.0.129', 'C6603', 'LG-H810/H81021z', 'SCH-I435', 'XT1710-02 Build/NDSS26.118-23-19-6', 'LGMS345', 'SM-G935U', 'LAVA_A3', 'PMID7102DC', 'Alcatel_5054O', 'D2406', 'X78', 'BLA-L29 Build/HUAWEIBLA-L29', 'SAMSUNG SM-G950U Build/R16NW', 'SM-A710M Build/NRD90M', 'LGL52VL Build/LMY47V', 'SM-A500FU', 'verykoolS5019', 'TA-1028 Build/NMF26O', 'VS820', 'K92', 'RCT6513W87 Build/MRA58K', 'RCT6K03W13', 'SM-G925W8', 'Redmi 4X Build/N2G47H', 'E5823 Build/32.4.A.1.54', 'moto g(6) play Build/OPP27.61-14-4', 'C6906 Build/14.6.A.1.236', 'C6906', 'SM-N900T', 'SM-N920V', 'SM-G930U Build/NRD90M', 'SM-S920L', 'LT30p', 'SAMSUNG-SM-G900A Build/LMY47X', 'SM-J320H', 'SM-A510M Build/LMY47X', 'ALCATEL ONE TOUCH 5036A Build/JDQ39', 'AX1060', 'B1-810', '0PAJ5', 'Trident/7.0', 'LGMS330 Build/LMY47V', 'SAMSUNG SM-J120H Build/LMY47V', 'SM-G901F', 'HUAWEI NXT-L09 Build/HUAWEINXT-L09', 'SM-J120W', 'SENS', 'Moto G (5) Build/NPPS25.137-93-4', 'LGMP450 Build/NRD90U', 'Hisense L675 Build/MRA58K', 'E2104 Build/24.0.A.5.14', 'ALTER', 'SAMSUNG SM-G920P Build/NRD90M', 'M4 SS4452 Build/LMY47V', 'rv:53.0', 'M4 SS4458 Build/MMB29M', 'LG-H870 Build/NRD90U', 'BG2-W09', 'M4 SS4457 Build/MRA58K', 'FRD-L09 Build/HUAWEIFRD-L09', 'DLI-L22 Build/HONORDLI-L22', 'XT1008 Build/LPBS23.13-56-2', 'XT1563 Build/MPD24.107-52', 'SM-A530F Build/NMF26X', 'LG-P708g', 'SM-N950F Build/R16NW', 'KFTBWI Build/LVY48F', 'SAMSUNG SM-A520F Build/NRD90M', 'VS500', 'DT0704K08', 'QTASUN1 Build/NRD90M', 'F3313 Build/37.0.A.2.248', 'SAMSUNG SM-N920V Build/NRD90M', 'K88', 'rv:59.0', 'LG-X165g Build/LRX21M', '7048A Build/LRX22G', 'SM-J701M Build/NRD90M', 'SM-G388F', 'Moto C Build/NRD90M.057', 'F3113 Build/33.3.A.1.97', 'Fusion5_u7', 'Z981 Build/MMB29M', 'KFAUWI Build/LVY48F', 'ASTRO', 'SAMSUNG SM-A320FL Build/NRD90M', 'AX920', 'SAMSUNG SM-J700M Build/MMB29K', 'SAMSUNG SM-N900T Build/LRX21V', 'FIG-LX3 Build/HUAWEIFIG-LX3', 'Z832 Build/MMB29M', 'HELIO', 'Moto G (5) Build/NPPS25.137-15-11', 'SAMSUNG SM-J700M Build/LMY48B', 'LG-D681', 'LG-X230 Build/MRA58K', 'SM-J710F Build/NRD90M', 'SAMSUNG SM-A310F/A310FXXU4CRB1 Build/NRD90M', 'Moto G (5) Plus Build/NPN25.137-92', 'LG-H420 Build/LRX21Y', 'PSPC550 Build/LMY47D', 'LG-LS993 Build/NRD90U', 'SAMSUNG SM-G935F Build/NRD90M', 'LG-V930', 'Vivo', 'TA-1028 Build/O00623', 'SAMSUNG SM-J530F Build/NRD90M', 'LG-H810', 'SM-N920G Build/NRD90M', 'Hisense L675 PRO Build/NRD90M', 'SAMSUNG SM-G920A Build/NRD90M', 'LG-M210 Build/NRD90U', 'SM-J727T Build/NRD90M', 'F8332', 'SM-G925T Build/LMY47X', 'Moto G (5) Plus Build/NPNS25.137-92-8', 'TREKKER-X3 Build/MMB29M', 'SM-T377W', 'SM-G930W8 Build/NRD90M', 'XT1021 Build/LPCS23.13-34.8-3', 'SM-T377V Build/NMF26X', 'SM-G892A', 'verykools4009', 'SM-J500FN Build/MMB29M', 'SM-J510MN Build/MMB29M', 'M10/Q1010', 'RS988 Build/MMB29M', 'Hisense F8 MINI Build/NRD90M', 'SM-A510M Build/NRD90M', 'Ilium L950 Build/KTU84P', 'SCH-I545 Build/LRX22C', 'SGH-M919V', 'M4 SS4453 Build/MMB29M', 'D5803 Build/23.5.A.1.291', 'Ilium X710 Build/MRA58K', 'moto', 'Z836BL', 'LGUS992', 'Z983 Build/NMF26F', 'M4', 'SM-G960U Build/R16NW', 'BLU STUDIO C 5+5 Build/LRX21M', 'LGMS395', 'XT1032 Build/LPBS23.13-56-2', 'SAMSUNG SM-G955U Build/R16NW', 'SPH-L720T', 'XT1254 Build/MCG24.251-5-5', 'SM-G930R7', 'XT1572 Build/NPHS25.200-15-8', 'Y635-L03 Build/HuaweiY635-L03', 'SM-J700F', 'SAMSUNG SM-N910V Build/MMB29M', 'R831L', 'SM-A520F Build/MMB29K', 'Android 4.4.2', 'SAMSUNG SM-A310F Build/NRD90M', 'SAMSUNG SM-J700T Build/NMF26X', 'HTCD100LVWPP', 'TREKKER-M1', 'SAMSUNG SM-G920T Build/NRD90M', 'Pixel 2 XL Build/OPM1.171019.021', 'E8QP', 'MTT', 'XT1053 Build/LPAS23.12-21.7-1', 'SM-T537V', 'Moto G (5) Build/NPP25.137-15', 'SAMSUNG-SGH-I537', 'SM-G900F Build/MMB29M', 'LG-F400K', 'SM-A800I', 'KIW-L24', 'HUAWEI Y625-U13 Build/HUAWEIY625-U13', 'VS880', 'SAMSUNG SM-G965U1 Build/R16NW', 'TA-1003', 'rv:29.0', 'SKY_5.0LM', 'ASUS_Z017DA', 'SM-A520W Build/NRD90M', 'BLU LIFE XL Build/L050U', 'SM-J530F Build/NRD90M', 'XT1585 Build/NCK25.118-10.5', 'ONE TOUCH 4033A Build/JDQ39', 'SM-J500FN', 'ALE-L23 Build/HuaweiALE-L23', 'XT1650', 'VerykoolS5030', 'SM-T710 Build/NRD90M', 'Mi A1 Build/N2G47H', 'SM-G955U Build/R16NW', 'BOIE9', 'B1-750', 'HTC One Build/LRX22G', 'SAMSUNG SM-N920P Build/NRD90M', '4047G Build/NRD90M', 'BLADE A602 Build/MRA58K', 'Ilium L610 Build/MRA58K', 'Gigaset', 'SAMSUNG-SM-G920A Build/MMB29K', 'C6903', 'LG-M153 Build/MXB48T', 'SM-T818V', 'HUAWEI TAG-L13 Build/HUAWEITAG-L13', 'SAMSUNG SM-J320M Build/LMY47V', 'SM-J700T1 Build/NMF26X', 'SM-G950U1 Build/NRD90M', 'LG-LS777 Build/NRD90U', 'G3313 Build/43.0.A.7.25', 'rv:55.0', 'Blade A475 Build/LMY47D', 'LG-H500 Build/LRX21Y', 'SM-J727V Build/NRD90M', 'F5321', 'SM-G570M Build/NRD90M', 'HUAWEI GRA-L09 Build/HUAWEIGRA-L09', 'E2303', 'SM-G530FZ', 'Energy X 2 Build/E050L', 'SM-T530 Build/LRX22G', 'K88 Build/MMB29M', 'ALCATEL ONE TOUCH 7040A Build/JDQ39', 'LG-H650 Build/MRA58K', 'SM-G900V Build/LRX21T', 'MAMI', 'Robin', 'VS425PP Build/LMY47V', 'SM-N950U1 Build/R16NW', 'SAMSUNG SM-G900I Build/MMB29M', 'Neffos C5 Build/LMY47D', 'BLADE V8Q Build/N2G47H', 'LG-K350', 'LG-D625', 'SM-G955U1 Build/R16NW', 'MYA-L11', '5085B Build/MRA58K', 'LG-H840 Build/MMB29M', 'Infinix', 'BBB100-1', 'SM-A300M Build/KTU84P', 'N9136', 'rv:41.0', 'rv:48.0', 'SM-G900P Build/LRX21T', 'ZUUM_ZEN_I Build/LRX21M', 'SM-T800', 'SAMSUNG-SM-T817A', 'LG-D400', 'Moto Z2 Play Build/NPS26.74-16-1', 'LG-M710 Build/NRD90U', 'HTC One_M8 Build/MRA58K', 'LGMS428', 'SM-G925V Build/NRD90M', 'ONE A2005 Build/MMB29M', 'TA-1038', 'LG-H990 Build/NRD90M', 'SAMSUNG-SM-G928A Build/NRD90M', 'LG-H931', 'Pixel 2 Build/OPM2.171019.016', 'H1611', 'LG-H812', 'SM-J700T Build/MMB29K', 'ZTE-Z956', 'GT-I9195L', 'LG-K240 Build/MXB48T', 'X3402', 'PH-1', 'ALP-L09 Build/HUAWEIALP-L09', 'LG-H872 Build/NRD90U', 'SM-N910H', 'XT1040', 'BND-L34', 'SAMSUNG SM-G610M Build/NRD90M', 'WOW64', 'SM-J510F', 'IdeaTabA2109A', 'GRACE', 'SAMSUNG SM-T710 Build/NRD90M', 'SM-A510F Build/MMB29K', 'Moto G (5) Plus Build/NPNS25.137-92-10', 'Aquaris_A4.5', 'SM-N950F Build/NMF26X', 'Lenovo K33b36 Build/NRD90N', 'LG-H840 Build/NRD90U', 'SAMSUNG SM-G532M Build/MMB29T', 'ALCATEL ONE TOUCH 7042A Build/JDQ39', 'LS5', 'SAMSUNG-SM-G930AZ', 'Android 6.0', 'SM-A300FU Build/MMB29M', 'SOV33 Build/35.0.D.2.25', 'ZA409', 'ILIUM', 'HTC U11 Build/NMF26X', 'SM-G900I', 'KFSOWI', 'VS990 Build/MRA58K', 'SAMSUNG SM-G920I Build/NRD90M', 'SAMSUNG SM-G890A Build/NRD90M', 'Redmi Note 4 Build/MMB29M', 'LG-M154', 'SAMSUNG-SM-T337A Build/LMY47X', 'SAMSUNG-SM-G890A Build/NRD90M', 'G527-U081', 'ZUR70016', 'Moto Z2 Play Build/NPS26.118-19', 'Pixel 2 XL Build/OPM2.171019.029', 'A463BG', 'Moto E (4) Plus Build/NMA26.42-11-3', 'Moto E (4) Plus Build/NMA26.42-152', 'SAMSUNG-SM-G930A Build/NRD90M', 'LG-D373', 'SAMSUNG-SM-J320A Build/MMB29K', 'SGH-I747M', 'SM-G965F Build/R16NW', 'Fractal', 'rv:33.0', 'RNE-L21 Build/HUAWEIRNE-L21', 'SM-G530H Build/KTU84P', 'SAMSUNG-SM-G920A Build/NRD90M', 'LG-V495/V49520l', '9002A', 'LG-H830', 'V.40R', 'K90U', 'BV8000Pro', 'LG-M327 Build/NRD90U', 'XT1023', 'SAMSUNG SM-G930T Build/NRD90M', 'Redmi', 'LGL83BL', '5054N', 'rv:50.0', '0PJA2', 'LGMS210 Build/NRD90U', 'LEX829', 'Nexus 6P Build/OPR5.170623.014', 'SM-J327T1 Build/NRD90M', 'LGLS990', 'E6853', 'DUK-AL20', 'Moto G (5) Build/NPP25.137-72', 'PLK-L01 Build/HONORPLK-L01', 'SM-T585', 'SM-J120FN Build/LMY47X', 'SAMSUNG-SM-J120A', 'MHA-L29 Build/HUAWEIMHA-L29', 'BLADE V8 Build/NRD90M', 'EGO', 'ZA990', 'verykoolS5524', 'ASUS_P00J', 'HTC_One_M8s/2.12.111.1', 'SAMSUNG SM-J701M Build/NRD90M', 'SM-G960F Build/R16NW', 'LG-K550', 'P008 Build/NRD90M', 'F8131', 'E6810 Build/5.320VZ.03.r', 'Ilium X220 Build/MRA58K', 'CPH1607', 'ANE-LX3 Build/HUAWEIANE-LX3', 'XT1021', 'verykools5035', 'REVVLPLUS', 'SAMSUNG-SM-G900A Build/KOT49H', 'BV7000', 'RCT6223W87', 'SM-G360M', 'F5121', 'SM-J700P', 'SM-G903W', 'VS425', 'GT-S7580L Build/JDQ39', 'F5121 Build/34.3.A.0.228', 'LG-H811 Build/MRA58K', 'HTC Desire 530 Build/MMB29M', '2PQ93', 'XT1635-01 Build/NDNS26.118-23-12-3', 'SM-A320Y', 'D5306', 'ORION', 'B3-A40', 'SM-P350 Build/MMB29M', 'Pixel XL Build/OPM1.171019.016', 'Y550-L02', 'SAMSUNG SM-J320FN Build/LMY47V', 'Intel', 'A97', 'LG-D855', 'Moto C Plus Build/NRD90M.05.034', 'P00A', 'SM-J320M Build/LMY47V', 'SM-J327VPP Build/NRD90M', 'ASUS_X018D', 'Beat', 'VS980 4G Build/LRX22G', 'Hisense F32 Build/NMF26F', 'GT-I9300', 'Moto G Play Build/MPIS24.241-15.3-7', 'Pixel XL Build/OPM1.171019.011', 'DASH', 'TA-1032', 'SAMSUNG-SM-G890A', 'P5526A Build/NRD90M', 'SM-G610M Build/NRD90M', 'Build/OPR6.170623.013', '4027A Build/KOT49H', 'Moto G (4) Build/NPJS25.93-14-18', 'iOS Device', 'SM-T810 Build/NRD90M', 'SM-J250M Build/NMF26X', 'VK815', 'SM-T380', '7055A Build/KVT49L', 'XT1096', 'HTCD200LVW', 'Hisense F24 Build/NRD90M', 'TAB7', 'E6553', 'Mi', 'WAS-LX3 Build/HUAWEIWAS-LX3', 'SM-G930F Build/MMB29K', 'SM-G360V', 'HTC U11 Build/OPR6.170623.013', 'Build/OPM1.171019.011', 'Aquaris V Build/N2G47H', 'Z837VL', 'SM-A310F Build/MMB29K', 'BLADE L7 Build/MRA58K', '4034G', 'A952', 'Wileyfox', 'CAM-L23', 'ALE-L21 Build/HuaweiALE-L21', 'LG-M320 Build/NRD90U', 'SAMSUNG-SM-N910A', 'GT-I9515', 'HT0701A16', 'KFJWI', 'STV100-1', 'CRO-L03 Build/HUAWEICRO-L03', 'LG-H810/H81022f', 'SGH-I337M Build/LRX22C', 'SAMSUNG SM-G850F/G850FXXS2CQD9 Build/LRX22G', 'SM-A720F Build/MMB29K', 'SM-G800M Build/KOT49H', 'NX16A8116KP', 'SM-G800F Build/MMB29K', 'Bolt', 'Ilium X520 Build/NRD90M', 'SM-T310 Build/KOT49H', 'U', 'verykool', 'SGP621 Build/23.5.A.1.291', 'LG-D320', 'gxq6580_weg_l Build/LMY47I', 'Moto G (5) Plus Build/NPNS25.137-93-8', 'SM-N920T Build/NRD90M', '5010S Build/MRA58K', 'Ilium L1120 Build/NRD90M', 'QTAQZ3 Build/KOT49H', 'Dash', 'SM-A320Y Build/NRD90M', 'Alcatel_4060A', 'Windows', '4034E', 'Blade L5 Build/LMY47I', 'Kylin', 'SM-G920F Build/MMB29K', 'SM-T817V Build/NRD90M', 'Windows NT 6.1', 'XT1635-02 Build/NPN26.118-22-2', 'XT1650 Build/NCLS26.118-23-13-3', 'Alcatel_5044R Build/NRD90M', 'LG-V496', '5051A Build/MMB29M', 'F3113', 'verykoolS5525', 'SM-A310M Build/NRD90M', 'SAMSUNG SM-A300H Build/LRX22G', 'KYOCERA-C6742A Build/LMY47V', 'LGLS675 Build/LMY47V', 'SAMSUNG SM-G892A Build/R16NW', 'ZTE BLADE A6 Build/NMF26F', 'KFASWI Build/LVY48F', 'SM-N920T', 'SP7731G', 'verykools5004', 'Win64', 'VS995 Build/NRD90M', 'ONE A2003 Build/MMB29M', 'SM-A730F Build/NMF26X', 'Pixel 2 XL Build/OPM1.171019.013', 'SAMSUNG SM-J327P Build/MMB29M', 'G8141 Build/47.1.A.5.51', 'SM-T820 Build/NRD90M', 'XT1563 Build/MPD24.65-25', 'LG-LS997 Build/NRD90M', 'SAMSUNG-SM-T807A', 'en-us', 'ZTE BLADE A321 Build/NMF26F', 'HUAWEI LYO-L21 Build/HUAWEILYO-L21', 'SAMSUNG-SM-J727AZ', 'SM-P600 Build/LMY47X', 'SAMSUNG SM-N920A Build/NRD90M', 'F3213', 'Redmi Note 4X Build/MRA58K', 'SAMSUNG SM-G610M Build/MMB29K', 'SAMSUNG SM-G570M Build/NRD90M', 'SAMSUNG-SM-T677A', 'GT-P5210 Build/JDQ39', 'SM-N900V Build/LRX21V', 'VTR-L09 Build/HUAWEIVTR-L09', 'Moto G (4) Build/NPJ25.93-14', 'SAMSUNG-SM-J320A Build/NMF26X', 'SAMSUNG SM-G900F Build/MMB29M', 'SAMSUNG SM-A720F Build/NRD90M', 'SH-04F', 'XT1635-01', 'SM-G920F Build/NRD90M', 'HUAWEI Y520-U03 Build/HUAWEIY520-U03', 'SAMSUNG SM-G900A Build/MMB29M', 'LG-K530 Build/NRD90U', 'SM-G930R4 Build/NRD90M', 'KFGIWI Build/LVY48F', 'Lenovo TB-7703X Build/S100', 'LGL163BL', 'SM-J500G', 'Pixel Build/OPR3.170623.013', 'A3_mini', 'SM-G7105', 'N9560 Build/NMF26F', 'Z839', 'SM-A500W', 'Aquaris', 'E5306 Build/27.3.A.0.165', 'SAMSUNG-SGH-I497', 'A37f', 'XT1609 Build/MPIS24.241-2.35-1-17', 'SAMSUNG SM-G930F/XXU2DRC1 Build/NRD90M', 'SM-J700H Build/MMB29K', 'SM-G928P Build/NRD90M', 'SM-G900P', 'Alcatel_5098O Build/MMB29M', 'Alcatel_4060O Build/MMB29M', 'HUAWEI LUA-U23 Build/HUAWEILUA-U23', 'Moto C Build/NRD90M.046', 'SM-G900T1', 'Aquaris U Plus Build/NMF26F', 'HTC Desire 10 lifestyle Build/MMB29M', 'BLU ENERGY X PLUS Build/LRX21M', 'Redmi Note 4 Build/NRD90M', 'M4 SS4457-R Build/NRD90M', 'SM-G930P', 'SM-G935F Build/NRD90M', 'QTAQZ3 Build/LMY47V', 'Aquaris X5 Plus Build/NMF26F', 'SM-G610M Build/MMB29K', 'SAMSUNG-SM-G925A', 'SM-S120VL', 'SAMSUNG SM-G9650 Build/R16NW', 'YOGA', 'SM-G920I Build/NRD90M', 'SM-S320VL', 'SAMSUNG-SM-G925A Build/MMB29K', 'ASUS_X00DD', 'TRT-LX3', 'SM-G350M', '5095I Build/MRA58K', 'SM-G530H Build/LRX22G', 'HUAWEI Y560-L03 Build/HUAWEIY560-L03', 'GT-P5113', '5049W Build/NRD90M', 'SAMSUNG SM-G925F Build/NRD90M', 'VS501 Build/NRD90U', 'PLE-701L', 'SM-T337V', 'XT1092', 'Moto C Build/NRD90M.063', 'H1711 Build/HUAWEIH1711', 'SM-J320FN Build/LMY47V', 'LG-M700 Build/NMF26X', 'SM-P355M Build/MMB29M', 'SM-G925F Build/NRD90M', 'LM-X210(G', 'SAMSUNG SM-J327AZ Build/NRD90M', 'E6853 Build/32.4.A.1.54', 'SM-G928G Build/NRD90M', 'LG-H650 Build/LMY47V', 'C1904', 'Ilium LT500 Build/LMY47O', 'GT-N7100', 'SM-N910T Build/LMY47X', 'B1-790', 'moto x4 Build/NPW26.83-42', '1016S', 'XT1710-02 Build/NDSS26.118-23-15', 'G3223 Build/42.0.A.4.101', 'SAMSUNG SM-G530H Build/LRX22G', 'UL40', 'Hisense', 'HUAWEI VNS-L21 Build/HUAWEIVNS-L21', 'HTC_Desire_820', 'GT-P5110', 'SM-G530T1', 'LG-M255', 'HUAWEI CUN-L03 Build/HUAWEICUN-L03', 'SM-G920W8', 'SM-G903F Build/MMB29K', 'SAMSUNG-SM-T537A', 'TA-1025', 'XT1055', 'Moto G (5) Plus Build/NPN25.137-72', 'TA-1025 Build/OPR1.170623.026', 'EVA-L09 Build/HUAWEIEVA-L09', 'Hisense U963 Build/MRA58K', 'ALCATEL ONE TOUCH 7047A Build/JDQ39', 'Lenovo YT3-850F Build/MMB29M', 'A577VL', 'P01M', 'Lenovo TB-X103F Build/LenovoTB-X103F', 'ASUS_X00ID', 'Alumini3Plus', 'SM-T670', 'Helix', 'SM-G615F', 'SM-G955U Build/NRD90M', 'ALP-L09 Build/HUAWEIALP-L09S', 'SM-T827V Build/NRD90M', 'LG-X210 Build/LMY47I', 'SM-G928T Build/NRD90M', 'TA-1044 Build/NMF26F', 'SM-G935F Build/MMB29K', 'Z835 Build/NMF26V', '5042A', 'SAMSUNG-SM-J320AZ Build/MMB29K', 'LG-M400 Build/NRD90U', 'LGL58VL', 'N817', 'SM-P607T', 'GT-I8200N', 'Lenovo K33b36 Build/MMB29M', 'Infinit', 'KFFOWI Build/LVY48F', 'TA-1038 Build/O00623', 'NX521J', 'rv:44.0', 'Moto G (5) Build/NPPS25.137-93-8', 'Ilium L910 Build/MRA58K', 'Microsoft', 'KYY22', 'S60 Build/MMB29M', 'RNE-L23 Build/HUAWEIRNE-L23', 'SM-E500M Build/KTU84P', 'LGMS631 Build/MRA58K', 'xs-Z47b7VqTMxs', 'XT1064 Build/MPB24.65-34-3', 'Ilium L620 Build/NRD90M', 'SM-G935T Build/NRD90M', 'hp2015', 'MHA-L09 Build/HUAWEIMHA-L09', 'ASUS_Z01BDC', 'SM-G550T Build/MMB29K', 'hi6210sft Build/MRA58K', 'WAS-TL10 Build/HUAWEIWAS-TL10', 'E6683', 'SM-G920T1', 'VT0701A08', 'Redmi 3S Build/MMB29M', 'VS996 Build/OPR1.170623.026', 'ASUS_Z00AD Build/LRX21V', 'Moto G Play Build/MPIS24.241-15.3-26', 'SM-G935T', 'SAMSUNG-SM-T377A', 'Lenovo PB2-650Y Build/MRA58K', 'Moto G (5) Build/NPP25.137-82', 'SAMSUNG SM-J320F Build/LMY47V', 'SM-N910C Build/MMB29K', nan, 'XT1032 Build/KXB21.14-L1.40', 'HTC6545LVW', 'PULP 4G Build/LMY47V', 'SAMSUNG SM-G955F Build/NRD90M', 'HTC One A9s Build/MRA58K', '5054S Build/LMY47V', 'SM-N9500', 'RCT6303W87M7 Build/MRA58K', 'Moto E (4) Plus Build/NMA26.42-69', 'LG-D213', 'Moto G (5) Plus Build/NPN25.137-83', 'NXA8QC116', 'Mobiistar_LAI_Yuna_X', 'E6633', 'Hisense E51 Build/LMY47V', 'SM-N900W8 Build/LRX21V', 'E5803', 'SAMSUNG SM-T810 Build/NRD90M', 'FEVER', 'SM-T280 Build/LMY47V', 'LG-D722', 'Windows NT 6.2', 'TOMMY2', 'D5316 Build/19.4.A.0.182', 'SM-N910T3', 'SM-G730W8 Build/KOT49H', 'WAS-LX1A Build/HUAWEIWAS-LX1A', 'VS987 Build/NRD90U', 'SAMSUNG SM-N910A Build/MMB29M', 'E6603 Build/32.4.A.1.54', 'SAMSUNG SM-T800 Build/MMB29K', 'SM-G360V Build/LMY48B', 'SAMSUNG SM-A730F Build/NMF26X', 'SPH-L720', 'MotoG3 Build/MPI24.65-33.1-2', 'E501', 'iris80', 'Nexus 5X Build/OPM3.171019.013', 'Z955A', 'SAMSUNG SM-G9600 Build/R16NW', 'LG-K371', 'XT1072', 'SM-J700T1', 'LG-D331', 'A9', 'K10', 'SM-G360F', 'BLA-L09 Build/HUAWEIBLA-L09', 'SM-A300H', 'XT1650 Build/NPLS26.118-20-5-3', 'KFSUWI Build/LVY48F', 'SM-G570M Build/MMB29K', 'Linux', 'SM-G930T', 'Gravity Build/NRD90M', 'Grand', 'F5121 Build/34.3.A.0.252', 'A50C+', 'SM-N9005 Build/LRX21V', 'Aquaris X Build/NMF26F', 'LG-P714', 'D2306 Build/18.6.A.0.182', 'rv:61.0', 'NX785QC8G', 'SAMSUNG SM-J327T Build/NRD90M', 'SM-P550 Build/MMB29M', 'SM-J100VPP Build/LMY48B', 'SM-J730G Build/NRD90M', 'MotoG3-TE Build/MPDS24.65-33-1-30', 'SM-J120M', '4047A Build/NRD90M', 'SAMSUNG SM-G935F Build/MMB29K', 'KFTHWI Build/KTU84M', 'SAMSUNG SM-G550T1 Build/MMB29K', 'LG-H850', 'SM-G928G', 'F5122', 'GT-S7582', 'SM-G360T1 Build/LMY47X', 'Nexus 6P Build/OPR5.170623.011', 'F80 PIABELLA Build/MRA58K', 'SM-T377V', 'Moto C Plus Build/NRD90M.05.022', 'HUAWEI RIO-L03 Build/HUAWEIRIO-L03', 'ZTE Blade L5 Build/LMY47I', 'F3213 Build/36.0.A.2.146', 'LG-LG870', 'BBB100-2', 'F3213 Build/36.1.A.1.86', 'SM-S820L', 'MotoG3 Build/MPIS24.65-25.1-19', 'SGP611', 'SM-J330F', 'GT-I9500', 'LGLS665 Build/LMY47V', 'Advance', 'MotoG3 Build/MPIS24.65-33.1-2-16', 'LG-D373 Build/KOT49I.V10a', 'HTC6535LVW', 'YOLO', 'SAMSUNG SM-J327T1 Build/NRD90M', 'HTC', 'Pixel Build/OPM1.171019.011', 'S471', 'SM-G955U1 Build/NRD90M', 'SM-A520F Build/NRD90M', 'LG-D802', 'XT1058', 'F5321 Build/34.3.A.0.238', 'F3111 Build/33.3.A.1.97', 'SAMSUNG SM-J710MN Build/NRD90M', 'LG-E975', 'SM-T330', 'STK_Sync_5e', 'D6603 Build/23.5.A.1.291', 'Moto G (4) Build/NPJ25.93-14.7', 'LG-M257', 'SM-S975L', 'XT1063', 'RCT6S03W12', 'SM-S727VL Build/MMB29M', 'HTC6500LVW', 'Z970', 'SAMSUNG SM-G900M Build/LRX21T', 'T08', 'D6503', 'E2006', 'XT1225', 'SAMSUNG SM-T813 Build/NRD90M', 'SM-J710MN Build/MMB29K', 'SAMSUNG-SM-J327A Build/NRD90M', 'BBB100-3', 'Z982 Build/NMF26V', 'SM-T320 Build/KOT49H', 'LG-D693n Build/KOT49I.V10a', 'SM-J727VPP Build/NRD90M', 'SAMSUNG-SM-G870A Build/MMB29M', 'HTC_One', 'SM-J510FN', 'SM-T530', 'ZTE BLADE V8 MINI Build/NRD90M', 'E5506 Build/29.2.A.0.166', 'SM-G550T2', 'A621R', 'rv:51.0', 'MotoG3-TE Build/MPDS24.65-33-1-3', 'SM-T810', 'LDN-LX3 Build/HUAWEILDN-LX3', 'SM-J727T1 Build/NRD90M', 'ME301T', 'SLA-L22', 'Tab2A7-10F', 'SM-N950U1 Build/NMF26X', 'MAGNO', 'Z799VL', 'Z959 Build/LMY47V', 'Mi A1 Build/OPR1.170623.026', 'LG-K373', 'AX820 Build/MRA58K', 'LG-H850 Build/MMB29M', 'SM-A720F Build/NRD90M', 'rv:58.0', 'G3223', '5044A', 'LG-H932', 'SM-J320W8', '5015A Build/LMY47I', 'LG-H918 Build/NRD90M', 'SM-P900', 'LG-D320 Build/KOT49I.V10a', 'XT1563 Build/MPDS24.107-52-5', 'SAMSUNG SM-G935T Build/NRD90M', 'Redmi Note 5A Build/N2G47H', 'F5121 Build/34.4.A.2.19', 'LG-V410', 'TA-1044', 'MYA-L23', 'SM-T807V', 'Z833', 'Pixel 2 XL Build/OPM2.171019.029.B1', 'E5506 Build/29.1.A.0.101', 'LG-H933', 'SAMSUNG SM-G965F Build/R16NW', 'PRA-LX1 Build/HUAWEIPRA-LX1', 'D2306', 'Z956 Build/MMB29M', 'BLU', 'Moto E (4) Build/NCQ26.69-56', 'ZTE', 'SM-J320VPP', 'SC-02H', 'Moto C Build/NRD90M.070', 'KFDOWI Build/LVY48F', 'MotoG3-TE Build/MPD24.65-33', 'VTR-L29', '831C', 'Moto G (4) Build/NPJS25.93-14-10', 'rv:14.0', 'E2104', 'TA-1027', 'SM-T555', 'HTC Desire 526G Build/KOT49H', 'PLUS', 'P5006A Build/NRD90M', 'VFD', 'Le', 'SM-G9250', 'F3113 Build/33.2.A.3.81', 'SM-G950U Build/NRD90M', 'SM-G955F Build/NRD90M', '6055B', 'rv:54.0', 'HUAWEI Build/MMB28B', 'XT1609 Build/NPIS26.48-38-3', 'H550', 'LG-TP260 Build/NRD90U', 'SM-G928P', 'Northwell', 'SM-G930T Build/NRD90M', 'SAMSUNG SM-G925P Build/NRD90M', 'SM-S903VL', 'F5321 Build/34.2.A.2.47', 'Z9 PLUS Build/NRD90M', 'FRD-L04 Build/HUAWEIFRD-L04', 'LG-H815', 'BLN-L21 Build/HONORBLN-L21', 'XT1031', 'SAMSUNG-SM-G530AZ Build/LMY48B', 'SAMSUNG-SGH-I337 Build/KOT49H', 'ASUS_X00HD Build/NMF26F', 'Pixel', 'Alumini3 Build/MRA58K', 'SM-G550T1 Build/MMB29K', 'SM-N920V Build/NRD90M', 'SM-T705', 'LG-D855 Build/LRX21R', 'AX1070', 'LG-H520', 'Blade A460 Build/LMY47O', 'A1-850', 'LG-H820', 'Lenovo YT3-850M Build/MMB29M', 'SAMSUNG SM-T587P Build/NRD90M', 'SM-G530P', 'SM-G935V Build/NRD90M', 'P4526A Build/NRD90M', 'HUAWEI VNS-L53 Build/HUAWEIVNS-L53', 'IdeaTab', 'NetHelper70', 'A466BG', 'SM-G530M', 'SAMSUNG SM-G955U Build/NRD90M', 'HUAWEI CAN-L11 Build/HUAWEICAN-L11', 'SAMSUNG SM-G935A Build/NRD90M', 'Moto Z2 Play Build/NPSS26.118-19-14', 'VS988 Build/NRD90U', 'SAMSUNG-SM-G890A Build/MMB29K', 'SM-G9650 Build/R16NW', 'SAMSUNG SM-G950F Build/NRD90M', 'ASUS_Z00UD', 'LG-H631', 'LG-D331 Build/LRX22G', '5025G Build/LMY47I', 'XT1003', 'D5106', 'LG-SP320', 'BLL-L23 Build/HUAWEIBLL-L23', 'Le X520 Build/IEXCNFN5902303111S', 'SM-A500H', 'SM-G925I Build/LMY47X', 'Moto Z2 Play Build/NPSS26.118-19-11', 'SM-G920T', 'Lenovo PB2-670Y Build/MRA58K', 'LG-M322', 'G8141', 'Alcatel', 'SM-N950U Build/NMF26X', 'SAMSUNG SM-G928G Build/NRD90M', 'SM-J727U Build/NRD90M', 'SAMSUNG SM-N950U Build/R16NW', 'CPH1723', 'SAMSUNG-SM-G935A', 'AX921 Build/MRA58K', 'LG-V500', 'ASUS_Z00ED', '4013M Build/KOT49H', 'SM-T550', 'Moto G Play Build/NPIS26.48-36-5', 'SAMSUNG SM-A310M Build/LMY47X', 'Build/KOT49H', 'LG-H221', 'SM-P355M', 'SM-G800F Build/KOT49H', 'VS835', 'SAMSUNG SM-J250M Build/NMF26X', 'LG-D850', '2PS64 Build/NRD90M', 'moto x4 Build/OPW27.57-40', 'F1f Build/LMY47V', 'SM-N910V Build/MMB29M', 'SAMSUNG SM-G930F Build/NRD90M', 'SM-G928V Build/MMB29K', 'G3123 Build/40.0.A.6.135', 'ATT', 'Moto X Play Build/NPD26.48-24-1', 'rv:47.0', 'SM-J320P Build/LMY47X', 'SAMSUNG SM-G925T Build/NRD90M', 'SM-G950U Build/R16NW', 'E6833', 'QwestIE8', 'LG-LS995', 'SAMSUNG SM-T550 Build/NMF26X', 'SM-G900P Build/MMB29M', 'A0001 Build/MHC19Q', 'Lenovo A6020l37 Build/LMY47V', 'CAM-L03 Build/HUAWEICAM-L03', 'E6810', 'Pixel Build/OPM1.171019.016', 'AOC_U706G', 'LG-E450f', '47418', 'Ilium', 'P027', '8062 Build/MRA58K', 'BNTV400', 'LG-H540', 'ONE TOUCH 4016A Build/JDQ39', 'SM-G850M', 'SM-T350 Build/NMF26X', 'LGLS991', 'SAMSUNG-SM-J320AZ', 'SM-J700M Build/LMY48B', 'NOKIA', 'SM-T550 Build/NMF26X', 'R2', 'rv:45.0', 'SM-G903M', 'SAMSUNG SM-N950U Build/NMF26X', 'A3-A20', '5080A Build/MRA58K', 'Android 5.1', 'SM-A520W', 'SM-A320FL Build/MMB29K', 'M4 SS4451 Build/LMY47D', 'VS5012 Build/NRD90M', 'Android 7.1.2', 'R8106', 'SGH-M919N', 'SM-J110M Build/LMY48B', 'SM-G355M Build/KOT49H', 'SM-P605V', 'Shift Build/LMY47I', 'F8331', 'SGP521', 'LGLS676 Build/MXB48T', 'SM-T113 Build/KTU84P', 'SM-G900M Build/LRX21T', 'AERIAL Build/NRD90M', 'm3', 'Nexus 5X Build/OPR4.170623.006', 'Blade L3 Build/KOT49H', '5056A Build/MMB29M', 'BBA100-2', 'SM-G900V Build/MMB29M', 'SAMSUNG SM-G930A Build/NRD90M', 'XT1080', 'SM-G920V Build/NRD90M', 'SAMSUNG SM-G930P Build/NRD90M', 'SM-G9600 Build/R16NW', 'LG-LK460', 'XT1094', 'rv:42.0', 'ASUS_X00DDA', 'Dream', 'SM-J120H Build/LMY47V', 'Moto E (4) Build/NDQS26.69-64-2', 'COVET Build/NRD90M', 'ZA509', 'Moto E (4) Build/NDQS26.69-23-2-3', 'Moto G (5) Build/NPP25.137-38', 'LG-K450 Build/MXB48T', 'SAMSUNG SM-G950F Build/R16NW', 'SM-A310M Build/LMY47X', 'MotoE2(4G-LTE', 'Blade L2 Plus Build/KOT49H', 'SM-J100MU', 'SM-J200M Build/LMY47X', 'S70V', 'BV6000', 'Z', 'SM-G925I Build/NRD90M', 'LG-D693n Build/LRX22G', 'Tornado', 'SM-G920R4', 'LG-K550 Build/NRD90U', 'SM-T377P', '4003A', 'HP', 'Nexus', 'XT1528', 'SM-J320V Build/NMF26X', 'Z965 Build/NMF26V', 'HTC 10 Build/NRD90M', 'Moto E (4) Build/NMA26.42-69', 'SGP511', 'SAMSUNG-SM-G935A Build/NRD90M', 'LGUS215 Build/NRD90U', 'XT1254', 'XT1058 Build/LPAS23.12-21.7-1', 'Z831', 'SM-N920C Build/NRD90M', 'SM-J700M Build/MMB29K', 'SAMSUNG-SM-G930A', 'STV100-4 Build/LMY47V', 'E6603', 'SAMSUNG-SM-N920A', 'SM-P600', 'HTC_D10i', 'X10', 'Moto G (4) Build/NPJS25.93-14-8.1-4', 'SAMSUNG SM-G950U Build/NRD90M', 'SM-G900L', 'S57 Build/KTU84P', 'Blade A510 Build/MRA58K', 'LG-K212', 'SAMSUNG SM-T580 Build/NRD90M', 'QTAIR7 Build/LMY47D', 'HTC One A9 Build/NRD90M', 'Azumi_KINZO_A5_QL', 'Minion_Tab', 'VS996', '6037B', 'Moto E (4) Build/NMA26.42-19', '5056N', 'KFSAWI', 'SM-G925I Build/MMB29K', 'Android 7.0', 'SM-J710GN', 'iris702', 'E6653 Build/32.4.A.1.54', 'MI MAX 2 Build/NMF26F', 'SAMSUNG SM-G935P Build/NRD90M', '9008A Build/NRD90M', 'LG-D851', 'ONEPLUS', 'QTASUN1', 'FTJ152D', 'vivo', 'LG-V410/V41020c', 'G620S-L03', 'H3321', '9203A Build/MRA58K', 'LG-H443/H44312g', 'SM-T285M', 'Moto E (4) Build/NMA26.42-11-3', 'Hisense F102 Build/NRD90M', 'XT1635-02 Build/OPN27.76-12-22', 'XT1635-02', 'ASUS_X015D Build/NRD90M', 'SAMSUNG SM-G530T Build/LMY47X', 'B3-A20', 'Turbo C5 Build/LMY47I', 'Hisense T963 Build/MRA58K', 'ONEPLUS A5010 Build/OPM1.171019.011', '9022X', 'SM-T817T', 'SM-G900M Build/KOT49H', 'SAMSUNG SM-G920F Build/NRD90M', 'GT-S7582L', 'Origins', '7_Plus', 'LG-V521', 'GT-P3100', 'SM-J327P Build/MMB29M', 'SM-G928F', 'SM-T110 Build/JDQ39', 'F3313 Build/37.0.A.2.108', 'SM-T580', 'SM-T330NU Build/LMY47X', 'SM-T560 Build/KTU84P', 'GT-N5110 Build/JDQ39', 'Build/OPR1.170623.032', \"F80'S+\", 'T1', 'MotoG3', 'XT1650 Build/NCLS26.118-23-13-6-5', 'E5823', 'G3123 Build/40.0.A.6.189', 'G630-U251', 'MotoG3 Build/MPI24.65-25', 'XT1565', 'Pixel XL Build/OPM1.171019.021', 'ONEPLUS A5000 Build/NMF26X', '6039A Build/LRX22G', '5010G Build/MRA58K', 'SM-G920I', 'HTCD160LVWPP', 'Moto G Play Build/NJH47F', 'SAMSUNG SM-J327A Build/NRD90M', 'AKUS', 'Touch', 'GT-N8000', 'SM-G386T', 'XT1580 Build/NPKS25.200-12-9', 'AERIAL', 'LG-M250 Build/NRD90U', 'SAMSUNG SM-J111M Build/LMY47V', 'LG-D693n', 'Blade', 'LGUS990', 'Ilium Pad T7X Build/LMY47I', 'SAMSUNG-SGH-I337', 'LG-K200 Build/MXB48T', 'Android 5.1.1', '8080 Build/LRX21M', 'SM-G925R4', 'SM-G955W', 'G3313', 'SAMSUNG SM-J530GM Build/NRD90M', 'SM-G930VL Build/NRD90M', 'iPhone', 'MotoG3-TE', 'SAMSUNG SM-J500M Build/LMY48B', 'LG-K500 Build/MMB29M', 'SM-G920P', 'moto x4 Build/OPWS27.57-40-14'}\n"
     ]
    }
   ],
   "source": [
    "categorical_features = train.select_dtypes(include=['object', 'category']).columns\n",
    "for col in categorical_features:\n",
    "    print(col, len(set(train[col])), set(train[col]))"
   ]
  },
  {
   "cell_type": "markdown",
   "metadata": {},
   "source": [
    "### Data encoding"
   ]
  },
  {
   "cell_type": "code",
   "execution_count": 9,
   "metadata": {},
   "outputs": [],
   "source": [
    "from sklearn.preprocessing import LabelEncoder\n",
    "\n",
    "label_cols = ['ProductCD', 'card4', 'card6', 'M1', 'M2', 'M3', 'M4', 'M5', 'M6', 'M7', 'M8', 'M9',\n",
    "              'id_12', 'id_16', 'id_27', 'id_28', 'id_29', 'id_35', 'id_36', 'id_37', 'id_38',\n",
    "              'DeviceType', 'id_23', 'id_34']\n",
    "\n",
    "for col in label_cols:\n",
    "    train[col] = train[col].fillna(\"Missing\")  # Handle NaNs\n",
    "    le = LabelEncoder()\n",
    "    train[col] = le.fit_transform(train[col])\n"
   ]
  },
  {
   "cell_type": "code",
   "execution_count": 10,
   "metadata": {},
   "outputs": [],
   "source": [
    "freq_cols = ['P_emaildomain', 'R_emaildomain', 'DeviceInfo']\n",
    "\n",
    "for col in freq_cols:\n",
    "    train[col] = train[col].fillna(\"Missing\")\n",
    "    train[col] = train[col].map(train[col].value_counts())  # Map frequency counts\n"
   ]
  },
  {
   "cell_type": "code",
   "execution_count": 11,
   "metadata": {},
   "outputs": [],
   "source": [
    "one_hot_cols = ['id_15', 'M4', 'id_30', 'id_31']\n",
    "\n",
    "train = pd.get_dummies(train, columns=one_hot_cols, drop_first=True)\n"
   ]
  },
  {
   "cell_type": "code",
   "execution_count": 12,
   "metadata": {},
   "outputs": [],
   "source": [
    "train[['Screen_Width', 'Screen_Height']] = train['id_33'].str.split('x', expand=True).astype(float)\n",
    "train = train.drop(columns=['id_33'])"
   ]
  },
  {
   "cell_type": "code",
   "execution_count": 13,
   "metadata": {},
   "outputs": [
    {
     "name": "stdout",
     "output_type": "stream",
     "text": [
      "card2 card3 card5 addr1 addr2 dist1 dist2 D1 D2 D3 D4 D5 D6 D7 D8 D9 D10 D11 D12 D13 D14 D15 V1 V2 V3 V4 V5 V6 V7 V8 V9 V10 V11 V12 V13 V14 V15 V16 V17 V18 V19 V20 V21 V22 V23 V24 V25 V26 V27 V28 V29 V30 V31 V32 V33 V34 V35 V36 V37 V38 V39 V40 V41 V42 V43 V44 V45 V46 V47 V48 V49 V50 V51 V52 V53 V54 V55 V56 V57 V58 V59 V60 V61 V62 V63 V64 V65 V66 V67 V68 V69 V70 V71 V72 V73 V74 V75 V76 V77 V78 V79 V80 V81 V82 V83 V84 V85 V86 V87 V88 V89 V90 V91 V92 V93 V94 V95 V96 V97 V98 V99 V100 V101 V102 V103 V104 V105 V106 V107 V108 V109 V110 V111 V112 V113 V114 V115 V116 V117 V118 V119 V120 V121 V122 V123 V124 V125 V126 V127 V128 V129 V130 V131 V132 V133 V134 V135 V136 V137 V138 V139 V140 V141 V142 V143 V144 V145 V146 V147 V148 V149 V150 V151 V152 V153 V154 V155 V156 V157 V158 V159 V160 V161 V162 V163 V164 V165 V166 V167 V168 V169 V170 V171 V172 V173 V174 V175 V176 V177 V178 V179 V180 V181 V182 V183 V184 V185 V186 V187 V188 V189 V190 V191 V192 V193 V194 V195 V196 V197 V198 V199 V200 V201 V202 V203 V204 V205 V206 V207 V208 V209 V210 V211 V212 V213 V214 V215 V216 V217 V218 V219 V220 V221 V222 V223 V224 V225 V226 V227 V228 V229 V230 V231 V232 V233 V234 V235 V236 V237 V238 V239 V240 V241 V242 V243 V244 V245 V246 V247 V248 V249 V250 V251 V252 V253 V254 V255 V256 V257 V258 V259 V260 V261 V262 V263 V264 V265 V266 V267 V268 V269 V270 V271 V272 V273 V274 V275 V276 V277 V278 V279 V280 V281 V282 V283 V284 V285 V286 V287 V288 V289 V290 V291 V292 V293 V294 V295 V296 V297 V298 V299 V300 V301 V302 V303 V304 V305 V306 V307 V308 V309 V310 V311 V312 V313 V314 V315 V316 V317 V318 V319 V320 V321 V322 V323 V324 V325 V326 V327 V328 V329 V330 V331 V332 V333 V334 V335 V336 V337 V338 V339 id_01 id_02 id_03 id_04 id_05 id_06 id_07 id_08 id_09 id_10 id_11 id_13 id_14 id_17 id_18 id_19 id_20 id_21 id_22 id_24 id_25 id_26 id_32 Screen_Width Screen_Height "
     ]
    }
   ],
   "source": [
    "for col in train.columns:\n",
    "    if train[col].isna().sum() > 0:\n",
    "        print(col, end=\" \")"
   ]
  },
  {
   "cell_type": "code",
   "execution_count": 14,
   "metadata": {},
   "outputs": [
    {
     "data": {
      "text/html": [
       "<div>\n",
       "<style scoped>\n",
       "    .dataframe tbody tr th:only-of-type {\n",
       "        vertical-align: middle;\n",
       "    }\n",
       "\n",
       "    .dataframe tbody tr th {\n",
       "        vertical-align: top;\n",
       "    }\n",
       "\n",
       "    .dataframe thead th {\n",
       "        text-align: right;\n",
       "    }\n",
       "</style>\n",
       "<table border=\"1\" class=\"dataframe\">\n",
       "  <thead>\n",
       "    <tr style=\"text-align: right;\">\n",
       "      <th></th>\n",
       "      <th>TransactionID</th>\n",
       "      <th>isFraud</th>\n",
       "      <th>TransactionDT</th>\n",
       "      <th>TransactionAmt</th>\n",
       "      <th>ProductCD</th>\n",
       "      <th>card1</th>\n",
       "      <th>card2</th>\n",
       "      <th>card3</th>\n",
       "      <th>card4</th>\n",
       "      <th>card5</th>\n",
       "      <th>...</th>\n",
       "      <th>id_31_samsung browser 5.4</th>\n",
       "      <th>id_31_samsung browser 6.2</th>\n",
       "      <th>id_31_samsung browser 6.4</th>\n",
       "      <th>id_31_samsung browser 7.0</th>\n",
       "      <th>id_31_samsung browser generic</th>\n",
       "      <th>id_31_seamonkey</th>\n",
       "      <th>id_31_silk</th>\n",
       "      <th>id_31_waterfox</th>\n",
       "      <th>Screen_Width</th>\n",
       "      <th>Screen_Height</th>\n",
       "    </tr>\n",
       "  </thead>\n",
       "  <tbody>\n",
       "    <tr>\n",
       "      <th>0</th>\n",
       "      <td>2987000</td>\n",
       "      <td>0</td>\n",
       "      <td>86400</td>\n",
       "      <td>68.5</td>\n",
       "      <td>4</td>\n",
       "      <td>13926</td>\n",
       "      <td>NaN</td>\n",
       "      <td>150.0</td>\n",
       "      <td>2</td>\n",
       "      <td>142.0</td>\n",
       "      <td>...</td>\n",
       "      <td>False</td>\n",
       "      <td>False</td>\n",
       "      <td>False</td>\n",
       "      <td>False</td>\n",
       "      <td>False</td>\n",
       "      <td>False</td>\n",
       "      <td>False</td>\n",
       "      <td>False</td>\n",
       "      <td>NaN</td>\n",
       "      <td>NaN</td>\n",
       "    </tr>\n",
       "    <tr>\n",
       "      <th>1</th>\n",
       "      <td>2987001</td>\n",
       "      <td>0</td>\n",
       "      <td>86401</td>\n",
       "      <td>29.0</td>\n",
       "      <td>4</td>\n",
       "      <td>2755</td>\n",
       "      <td>404.0</td>\n",
       "      <td>150.0</td>\n",
       "      <td>3</td>\n",
       "      <td>102.0</td>\n",
       "      <td>...</td>\n",
       "      <td>False</td>\n",
       "      <td>False</td>\n",
       "      <td>False</td>\n",
       "      <td>False</td>\n",
       "      <td>False</td>\n",
       "      <td>False</td>\n",
       "      <td>False</td>\n",
       "      <td>False</td>\n",
       "      <td>NaN</td>\n",
       "      <td>NaN</td>\n",
       "    </tr>\n",
       "    <tr>\n",
       "      <th>2</th>\n",
       "      <td>2987002</td>\n",
       "      <td>0</td>\n",
       "      <td>86469</td>\n",
       "      <td>59.0</td>\n",
       "      <td>4</td>\n",
       "      <td>4663</td>\n",
       "      <td>490.0</td>\n",
       "      <td>150.0</td>\n",
       "      <td>4</td>\n",
       "      <td>166.0</td>\n",
       "      <td>...</td>\n",
       "      <td>False</td>\n",
       "      <td>False</td>\n",
       "      <td>False</td>\n",
       "      <td>False</td>\n",
       "      <td>False</td>\n",
       "      <td>False</td>\n",
       "      <td>False</td>\n",
       "      <td>False</td>\n",
       "      <td>NaN</td>\n",
       "      <td>NaN</td>\n",
       "    </tr>\n",
       "    <tr>\n",
       "      <th>3</th>\n",
       "      <td>2987003</td>\n",
       "      <td>0</td>\n",
       "      <td>86499</td>\n",
       "      <td>50.0</td>\n",
       "      <td>4</td>\n",
       "      <td>18132</td>\n",
       "      <td>567.0</td>\n",
       "      <td>150.0</td>\n",
       "      <td>3</td>\n",
       "      <td>117.0</td>\n",
       "      <td>...</td>\n",
       "      <td>False</td>\n",
       "      <td>False</td>\n",
       "      <td>False</td>\n",
       "      <td>False</td>\n",
       "      <td>False</td>\n",
       "      <td>False</td>\n",
       "      <td>False</td>\n",
       "      <td>False</td>\n",
       "      <td>NaN</td>\n",
       "      <td>NaN</td>\n",
       "    </tr>\n",
       "    <tr>\n",
       "      <th>4</th>\n",
       "      <td>2987004</td>\n",
       "      <td>0</td>\n",
       "      <td>86506</td>\n",
       "      <td>50.0</td>\n",
       "      <td>1</td>\n",
       "      <td>4497</td>\n",
       "      <td>514.0</td>\n",
       "      <td>150.0</td>\n",
       "      <td>3</td>\n",
       "      <td>102.0</td>\n",
       "      <td>...</td>\n",
       "      <td>False</td>\n",
       "      <td>True</td>\n",
       "      <td>False</td>\n",
       "      <td>False</td>\n",
       "      <td>False</td>\n",
       "      <td>False</td>\n",
       "      <td>False</td>\n",
       "      <td>False</td>\n",
       "      <td>2220.0</td>\n",
       "      <td>1080.0</td>\n",
       "    </tr>\n",
       "  </tbody>\n",
       "</table>\n",
       "<p>5 rows × 639 columns</p>\n",
       "</div>"
      ],
      "text/plain": [
       "   TransactionID  isFraud  TransactionDT  TransactionAmt  ProductCD  card1  \\\n",
       "0        2987000        0          86400            68.5          4  13926   \n",
       "1        2987001        0          86401            29.0          4   2755   \n",
       "2        2987002        0          86469            59.0          4   4663   \n",
       "3        2987003        0          86499            50.0          4  18132   \n",
       "4        2987004        0          86506            50.0          1   4497   \n",
       "\n",
       "   card2  card3  card4  card5  ...  id_31_samsung browser 5.4  \\\n",
       "0    NaN  150.0      2  142.0  ...                      False   \n",
       "1  404.0  150.0      3  102.0  ...                      False   \n",
       "2  490.0  150.0      4  166.0  ...                      False   \n",
       "3  567.0  150.0      3  117.0  ...                      False   \n",
       "4  514.0  150.0      3  102.0  ...                      False   \n",
       "\n",
       "   id_31_samsung browser 6.2  id_31_samsung browser 6.4  \\\n",
       "0                      False                      False   \n",
       "1                      False                      False   \n",
       "2                      False                      False   \n",
       "3                      False                      False   \n",
       "4                       True                      False   \n",
       "\n",
       "   id_31_samsung browser 7.0  id_31_samsung browser generic  id_31_seamonkey  \\\n",
       "0                      False                          False            False   \n",
       "1                      False                          False            False   \n",
       "2                      False                          False            False   \n",
       "3                      False                          False            False   \n",
       "4                      False                          False            False   \n",
       "\n",
       "   id_31_silk  id_31_waterfox  Screen_Width  Screen_Height  \n",
       "0       False           False           NaN            NaN  \n",
       "1       False           False           NaN            NaN  \n",
       "2       False           False           NaN            NaN  \n",
       "3       False           False           NaN            NaN  \n",
       "4       False           False        2220.0         1080.0  \n",
       "\n",
       "[5 rows x 639 columns]"
      ]
     },
     "execution_count": 14,
     "metadata": {},
     "output_type": "execute_result"
    }
   ],
   "source": [
    "train.head()"
   ]
  },
  {
   "cell_type": "code",
   "execution_count": 26,
   "metadata": {},
   "outputs": [],
   "source": [
    "train = train.fillna(0) # fill in nulls with zeroes"
   ]
  },
  {
   "cell_type": "code",
   "execution_count": null,
   "metadata": {},
   "outputs": [],
   "source": [
    "# Drop columns that might be mostly NaN\n",
    "drop_cols = [col for col in train.columns if train[col].isna().sum() > 0.9 * len(train)]\n",
    "train.drop(columns=drop_cols, inplace=True)\n",
    "\n",
    "# Fill remaining NaNs (simplistic approach)\n",
    "train.fillna(-999, inplace=True)\n",
    "\n",
    "# Label-encode some categorical features (example)\n",
    "cat_cols = [\"ProductCD\", \"card4\", \"DeviceType\"]  # minimal example\n",
    "for c in cat_cols:\n",
    "    if c in train.columns:\n",
    "        train[c] = train[c].astype(str)\n",
    "        train[c] = LabelEncoder().fit_transform(train[c])"
   ]
  },
  {
   "cell_type": "code",
   "execution_count": 27,
   "metadata": {},
   "outputs": [],
   "source": [
    "# Target is \"isFraud\"\n",
    "X = train.drop([\"isFraud\", \"TransactionID\"], axis=1, errors=\"ignore\")\n",
    "y = train[\"isFraud\"]\n",
    "\n",
    "# Simple split (no cross-validation for brevity)\n",
    "X_train, X_test, y_train, y_test = train_test_split(X, y, test_size=0.2, random_state=42, stratify=y)"
   ]
  },
  {
   "cell_type": "markdown",
   "metadata": {},
   "source": [
    "### Data normalization"
   ]
  },
  {
   "cell_type": "code",
   "execution_count": 28,
   "metadata": {},
   "outputs": [],
   "source": [
    "from sklearn.preprocessing import StandardScaler\n",
    "\n",
    "scaler = StandardScaler()\n",
    "X_train[['TransactionAmt', 'card1', 'card2', 'card3', 'card5', 'addr1', 'addr2']] = scaler.fit_transform(\n",
    "    X_train[['TransactionAmt', 'card1', 'card2', 'card3', 'card5', 'addr1', 'addr2']]\n",
    ")\n",
    "X_test[['TransactionAmt', 'card1', 'card2', 'card3', 'card5', 'addr1', 'addr2']] = scaler.transform(\n",
    "    X_test[['TransactionAmt', 'card1', 'card2', 'card3', 'card5', 'addr1', 'addr2']]\n",
    ")"
   ]
  },
  {
   "cell_type": "code",
   "execution_count": 29,
   "metadata": {},
   "outputs": [],
   "source": [
    "from sklearn.preprocessing import MinMaxScaler\n",
    "\n",
    "scaler = MinMaxScaler()\n",
    "X_train[['TransactionDT', 'id_01', 'id_02', 'id_03', 'id_07', 'id_08']] = scaler.fit_transform(\n",
    "    X_train[['TransactionDT', 'id_01', 'id_02', 'id_03', 'id_07', 'id_08']]\n",
    ")\n",
    "X_test[['TransactionDT', 'id_01', 'id_02', 'id_03', 'id_07', 'id_08']] = scaler.transform(\n",
    "    X_test[['TransactionDT', 'id_01', 'id_02', 'id_03', 'id_07', 'id_08']]\n",
    ")"
   ]
  },
  {
   "cell_type": "code",
   "execution_count": 30,
   "metadata": {},
   "outputs": [],
   "source": [
    "from sklearn.preprocessing import RobustScaler\n",
    "\n",
    "scaler = RobustScaler()\n",
    "X_train[['TransactionAmt', 'card1', 'card2', 'card3', 'card5']] = scaler.fit_transform(\n",
    "    X_train[['TransactionAmt', 'card1', 'card2', 'card3', 'card5']]\n",
    ")\n",
    "X_test[['TransactionAmt', 'card1', 'card2', 'card3', 'card5']] = scaler.transform(\n",
    "    X_test[['TransactionAmt', 'card1', 'card2', 'card3', 'card5']]\n",
    ")"
   ]
  },
  {
   "cell_type": "code",
   "execution_count": 31,
   "metadata": {},
   "outputs": [
    {
     "name": "stderr",
     "output_type": "stream",
     "text": [
      "/Library/Frameworks/Python.framework/Versions/3.12/lib/python3.12/site-packages/pandas/core/arraylike.py:399: RuntimeWarning: invalid value encountered in log1p\n",
      "  result = getattr(ufunc, method)(*inputs, **kwargs)\n"
     ]
    }
   ],
   "source": [
    "import numpy as np\n",
    "\n",
    "for col in ['TransactionAmt', 'addr1', 'addr2']:\n",
    "    X_train[col] = np.log1p(X_train[col])\n",
    "    X_test[col] = np.log1p(X_test[col])\n"
   ]
  },
  {
   "cell_type": "code",
   "execution_count": 33,
   "metadata": {},
   "outputs": [],
   "source": [
    "X_train = X_train.fillna(0)"
   ]
  },
  {
   "cell_type": "code",
   "execution_count": null,
   "metadata": {},
   "outputs": [],
   "source": [
    "def run_genetic_algorithm(X_data, y_data):\n",
    "    \"\"\"\n",
    "    Placeholder for GA. Return a subset of feature indices.\n",
    "    \"\"\"\n",
    "    # TODO: Implement population, crossover, mutation, selection, etc.\n",
    "    # For demonstration, return all features:\n",
    "    return np.arange(X_data.shape[1])\n",
    "\n",
    "best_features = run_genetic_algorithm(X_train, y_train)\n",
    "X_train_ga = X_train.iloc[:, best_features]\n",
    "X_test_ga = X_test.iloc[:, best_features]"
   ]
  },
  {
   "cell_type": "code",
   "execution_count": null,
   "metadata": {},
   "outputs": [],
   "source": [
    "model = SVC(kernel=\"rbf\")\n",
    "model.fit(X_train, y_train)\n",
    "y_pred = model.predict(X_test)\n",
    "print(\"Baseline model Accuracy:\", accuracy_score(y_test, y_pred))"
   ]
  },
  {
   "cell_type": "code",
   "execution_count": null,
   "metadata": {},
   "outputs": [],
   "source": [
    "def run_pso_for_hyperparams(X_data, y_data, model_class):\n",
    "    \"\"\"\n",
    "    Placeholder for PSO. Return best hyperparams found.\n",
    "    \"\"\"\n",
    "    # TODO: Swarm initialization, velocity updates, fitness evaluation, etc.\n",
    "    return {\"C\": 1.0, \"kernel\": \"rbf\"}  # example\n",
    "\n",
    "best_params = run_pso_for_hyperparams(X_train_ga, y_train, SVC)\n",
    "model_pso = SVC(**best_params)\n",
    "model_pso.fit(X_train_ga, y_train)\n",
    "y_pred_pso = model_pso.predict(X_test_ga)\n",
    "print(\"PSO-tuned model Accuracy:\", accuracy_score(y_test, y_pred_pso))"
   ]
  },
  {
   "cell_type": "code",
   "execution_count": null,
   "metadata": {},
   "outputs": [],
   "source": [
    "def run_aco_classification(X_data, y_data):\n",
    "    \"\"\"\n",
    "    Placeholder for ACO. Return final classification model or rules.\n",
    "    \"\"\"\n",
    "    # TODO: ACO logic with ants’ path optimization, pheromone updates, etc.\n",
    "    # Here we simply return the same baseline model for demonstration:\n",
    "    return SVC(kernel=\"rbf\")\n",
    "\n",
    "aco_model = run_aco_classification(X_train_ga, y_train)\n",
    "aco_model.fit(X_train_ga, y_train)\n",
    "y_pred_aco = aco_model.predict(X_test_ga)\n",
    "print(\"ACO-based model Accuracy:\", accuracy_score(y_test, y_pred_aco))"
   ]
  },
  {
   "cell_type": "code",
   "execution_count": null,
   "metadata": {},
   "outputs": [],
   "source": []
  },
  {
   "cell_type": "code",
   "execution_count": null,
   "metadata": {},
   "outputs": [],
   "source": []
  }
 ],
 "metadata": {
  "kernelspec": {
   "display_name": "Python 3",
   "language": "python",
   "name": "python3"
  },
  "language_info": {
   "codemirror_mode": {
    "name": "ipython",
    "version": 3
   },
   "file_extension": ".py",
   "mimetype": "text/x-python",
   "name": "python",
   "nbconvert_exporter": "python",
   "pygments_lexer": "ipython3",
   "version": "3.12.5"
  }
 },
 "nbformat": 4,
 "nbformat_minor": 2
}
